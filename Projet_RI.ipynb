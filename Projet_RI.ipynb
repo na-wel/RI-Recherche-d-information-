{
 "cells": [
  {
   "cell_type": "code",
   "execution_count": 1,
   "metadata": {},
   "outputs": [],
   "source": [
    "from porter import stem\n",
    "from TextRepresenter import PorterStemmer\n",
    "import collections\n",
    "import math\n",
    "import re\n",
    "#Exercice1:\n",
    "doc1 =\"the new home has been saled on top forecasts\"\n",
    "doc2 =\"the home sales rise in july\"\n",
    "doc3 = \"there is an increase in home sales in july\"\n",
    "doc4 =\"july encounter a new home sales rise\"\n",
    "stop_words= [\"the\", \"a\", \"an\", \"on\", \"behind\", \"under\", \"there\", \"in\", \"on\"]"
   ]
  },
  {
   "cell_type": "code",
   "execution_count": 2,
   "metadata": {},
   "outputs": [],
   "source": [
    "def index(doc):\n",
    "    doc_sep=doc.split() \n",
    "    doc_sep_norm=[stem(i.lower()) for i in doc_sep]\n",
    "    index=collections.Counter(doc_sep_norm)\n",
    "    print(index)"
   ]
  },
  {
   "cell_type": "code",
   "execution_count": 3,
   "metadata": {},
   "outputs": [
    {
     "name": "stdout",
     "output_type": "stream",
     "text": [
      "{0: {'new': 0.05675840264066563, 'home': 0.0, 'ha': 0.10181008131935056, 'been': 0.10181008131935056, 'sale': 0.0, 'top': 0.10181008131935056, 'forecast': 0.10181008131935056}, 1: {'home': 0.0, 'sale': 0.0, 'rise': 0.08513760396099845, 'juli': 0.037190591885701625}, 2: {'is': 0.10181008131935056, 'increas': 0.10181008131935056, 'home': 0.0, 'sale': 0.0, 'juli': 0.024793727923801082}, 3: {'juli': 0.03187765018774425, 'encount': 0.13089867598202215, 'new': 0.07297508910942724, 'home': 0.0, 'sale': 0.0, 'rise': 0.07297508910942724}}\n",
      "{'new': {0: 0.05675840264066563, 3: 0.07297508910942724}, 'home': {0: 0.0, 1: 0.0, 2: 0.0, 3: 0.0}, 'ha': {0: 0.10181008131935056}, 'been': {0: 0.10181008131935056}, 'sale': {0: 0.0, 1: 0.0, 2: 0.0, 3: 0.0}, 'top': {0: 0.10181008131935056}, 'forecast': {0: 0.10181008131935056}, 'rise': {1: 0.08513760396099845, 3: 0.07297508910942724}, 'juli': {1: 0.037190591885701625, 2: 0.024793727923801082, 3: 0.03187765018774425}, 'is': {2: 0.10181008131935056}, 'increas': {2: 0.10181008131935056}, 'encount': {3: 0.13089867598202215}}\n"
     ]
    }
   ],
   "source": [
    "#2\n",
    "docs=[doc1.split(), doc2.split(), doc3.split(), doc4.split()]\n",
    "index = {}\n",
    "index_inv = {}\n",
    "for i in range(len(docs)):\n",
    "    doc = docs[i]\n",
    "    index_doc={}    \n",
    "    for word in doc:\n",
    "        if word in stop_words:\n",
    "            continue\n",
    "        stemmed = stem(word.lower())\n",
    "        if word in index_doc:\n",
    "            index_doc[stemmed]+=1\n",
    "        else:\n",
    "            index_doc[stemmed]=1\n",
    "        \n",
    "        \n",
    "        if stemmed in index_inv:\n",
    "            if i in index_inv[stemmed]:\n",
    "                index_inv[stemmed][i]+=1\n",
    "            else:\n",
    "                index_inv[stemmed][i]=1\n",
    "        else:\n",
    "            index_inv[stemmed]={i:1}\n",
    "    index[i]=index_doc\n",
    "for word in index_inv:\n",
    "    df=len(index_inv[word])\n",
    "    idf=math.log((1+len(docs))/(1+df))\n",
    "    for doc in index_inv[word]:\n",
    "        index[doc][word]=index[doc][word]/len(docs[doc])*idf\n",
    "        index_inv[word][doc]= index_inv[word][doc]/len(docs[doc])*idf\n",
    "    \n",
    "print(index)\n",
    "print(index_inv)  "
   ]
  },
  {
   "cell_type": "code",
   "execution_count": 4,
   "metadata": {},
   "outputs": [
    {
     "name": "stdout",
     "output_type": "stream",
     "text": [
      "{'1': ' Preliminary Report-International Algebraic Language\\n jgkfldjgfkld\\n', '2': ' Extraction of Roots by Repeated Subtractions for Digital Computers\\n', '3': ' Techniques Department on Matrix Program Schemes\\n', '4': ' Glossary of Computer Engineering and Programming Terminology\\n', '5': ' Two Square-Root Approximations\\n', '6': ' The Use of Computers in Inspection Procedures\\n', '7': ' Glossary of Computer Engineering and Programming Terminology\\n', '8': ' On The Equivalence and Transformation of Program Schemes\\n', '9': ' Proposal for an UNCOL\\n', '10': ' Glossary of Computer Engineering and Programming Terminology\\n', '11': ' The Problem of Programming Communication with\\n Changing Machines A Proposed Solution-Part 2\\n'}\n"
     ]
    }
   ],
   "source": [
    "#Exercice 2\n",
    "def buildDocCollectionSimple(nom_doc):\n",
    "    var = open(nom_doc,'r')\n",
    "    resultat={}\n",
    "    ok=False\n",
    "    while True: \n",
    "        if ok==False:\n",
    "            texte=var.readline()\n",
    "       \n",
    "        if texte =='':\n",
    "            break\n",
    "        else:\n",
    "            ligne=texte.split()\n",
    "            if \".I\" in texte:\n",
    "                id = ligne[1]\n",
    "                texte= var.readline()\n",
    "                chaine = \"\"\n",
    "                if \".T\" in texte:\n",
    "                    while True:                    \n",
    "                        texte=var.readline()\n",
    "                        if texte =='' or texte.startswith('.'):\n",
    "                            if \".I\" in texte:\n",
    "                                ok = True  \n",
    "                            else:\n",
    "                                ok = False\n",
    "                            break                    \n",
    "                        chaine=chaine+\" \"+texte\n",
    "                else:\n",
    "                    ok = False\n",
    "                    \n",
    "                resultat[id]=chaine\n",
    "    return resultat\n",
    "\n",
    "print(buildDocCollectionSimple(\"cacmShort-good.txt\"))        "
   ]
  },
  {
   "cell_type": "code",
   "execution_count": 6,
   "metadata": {},
   "outputs": [],
   "source": [
    "def buildDocumentCollectionRegex(nom_doc):\n",
    "    var = open(nom_doc,'r')\n",
    "    fichier=var.read().replace(\"\\n\",'#').replace(\"\\t\",' ')\n",
    "    x = re.findall(\"(?<=\\.I )(\\d*.*?)(?=(\\.I \\d*|\\Z))\",fichier)\n",
    "    resultat = {}\n",
    "    for elt in x:\n",
    "        st = elt[0]+elt[1]\n",
    "        numero=re.findall(\"(\\d*?)#\\.\",elt[0])\n",
    "        dictt = {}\n",
    "        for key in [(\"title\", \"T\"), (\"text\", \"W\"), (\"author\", \"A\"), (\"keywords\", \"K\")]:\n",
    "            x = re.findall(\"(?<=\\.\"+key[1]+\"#)(.*?)(?=\\.[A-Z]#)\",st)\n",
    "            if len(x)>0:\n",
    "                x = re.sub(\"#\", \" \", x[0])\n",
    "            else : \n",
    "                x = \"\"\n",
    "            dictt[key[0]] = x\n",
    "            \n",
    "        resultat[numero[0]]= dictt\n",
    "        \n",
    "    return resultat\n",
    "\n",
    "formatted = buildDocumentCollectionRegex(\"cacm.txt\")"
   ]
  },
  {
   "cell_type": "code",
   "execution_count": 7,
   "metadata": {},
   "outputs": [],
   "source": [
    "import json\n",
    "with open('cacm_formatted.json', 'w') as fp:\n",
    "    json.dump(formatted, fp)"
   ]
  },
  {
   "cell_type": "code",
   "execution_count": 9,
   "metadata": {},
   "outputs": [],
   "source": [
    "class Document:\n",
    "    def __init__(self, I, T):\n",
    "        self.I=I\n",
    "        self.T=T\n",
    "    def get_T(self):\n",
    "        res = \"\"\n",
    "        for field in self.T:\n",
    "            if len(self.T[field])>0:\n",
    "                res  = res +\" \"+ self.T[field]\n",
    "        return res\n",
    "    def get_id(self):\n",
    "        return self.I\n",
    "\n",
    "class Parser:  \n",
    "    def parse(self,documents):\n",
    "        result = {}\n",
    "        formatted = buildDocumentCollectionRegex(documents)\n",
    "        return {k: Document(k, v) for k, v in formatted.items()}\n",
    "            \n",
    "parser = Parser()\n",
    "res = parser.parse(\"cacm.txt\")"
   ]
  },
  {
   "cell_type": "code",
   "execution_count": 161,
   "metadata": {},
   "outputs": [
    {
     "name": "stdout",
     "output_type": "stream",
     "text": [
      " Preliminary Report-International Algebraic Language  Perlis, A. J. Samelson,K. \n"
     ]
    }
   ],
   "source": [
    "print(res[\"1\"].get_T())"
   ]
  },
  {
   "cell_type": "code",
   "execution_count": 10,
   "metadata": {},
   "outputs": [],
   "source": [
    "import time\n",
    "class IndexerSimple:\n",
    "    def __init__(self,documents):\n",
    "        self.parsed = {}\n",
    "        self.index,self.index_inverse = self.indexation(documents)\n",
    "        var = open(\"index.txt\",\"w\")\n",
    "        var.write(str(self.index))\n",
    "        var.close()\n",
    "        var = open(\"index-inverse.txt\",\"w\")\n",
    "        var.write(str(self.index_inverse))\n",
    "        var.close()       \n",
    "        \n",
    "        \n",
    "    def indexation(self,documents):\n",
    "        parser = Parser()\n",
    "        self.parsed =parser.parse(documents)\n",
    "        stemmer = PorterStemmer()\n",
    "        index = {}\n",
    "        index_inv={}\n",
    "        for doc in self.parsed:            \n",
    "            index[doc]=stemmer.getTextRepresentation(self.parsed[doc].get_T())\n",
    "            for stemmed in index[doc]:\n",
    "                if stemmed in index_inv:\n",
    "                    if doc in index_inv[stemmed]:\n",
    "                        index_inv[stemmed][doc]+=1\n",
    "                    else:\n",
    "                        index_inv[stemmed][doc]=1\n",
    "                else:\n",
    "                    index_inv[stemmed]={doc:1}\n",
    "        return index,index_inv\n",
    "    \n",
    "    def getTfsForDoc(self,doc):\n",
    "        return self.index[doc]\n",
    "    \n",
    "    def getTfIDFsForDoc(self,doc):\n",
    "        resultat={}\n",
    "        N = len(self.index)\n",
    "        for word in index[doc]:\n",
    "            df=len(self.index_inverse[word])\n",
    "            idf=math.log((1+N)/(1+df))\n",
    "            resultat[word]=self.index[doc][word]/len(self.index[doc])*idf\n",
    "        return resultat\n",
    "    \n",
    "    def getTfsForStem(self,stem):\n",
    "        return self.index_inverse[stem]\n",
    "    \n",
    "    def getTfIDFsForStem(self,stem):\n",
    "        resultat={}\n",
    "        df=len(self.index_inverse[stem])\n",
    "        idf=math.log((1+len(self.index))/(1+df))\n",
    "        for doc in self.index_inverse[stem]:\n",
    "            resultat[doc]= self.index_inverse[stem][doc]/len(self.index[doc])*idf\n",
    "        return resultat\n",
    "    \n",
    "    def getIDFForStem(self, stem):\n",
    "        if stem in self.index_inverse:\n",
    "            df=len(self.index_inverse[stem])\n",
    "            idf=math.log((1+len(self.index))/(1+df))     \n",
    "        return idf\n",
    "\n",
    "    \n",
    "    def  getStrDoc(self,document):\n",
    "        return \".I \"+document+\"\\n.Content \\n\"+self.parsed[document].get_T()\n",
    "    \n",
    "#    def indexation2(self,docs):\n",
    "#        parser = Parser()\n",
    "#        parsed_col= parser.parse(docs)\n",
    "#        index = {}\n",
    "#        index_inv = {}\n",
    "#        for i in parsed_col:\n",
    "#            doc = parsed_col[i].T\n",
    "#            index_doc={}    \n",
    "#            for word in doc:\n",
    "#                if word in stop_words:\n",
    "#                    continue\n",
    "#                stemmed = stem(word.lower())\n",
    "#                if word in index_doc:\n",
    "#                    index_doc[stemmed]+=1\n",
    "#                else:\n",
    "#                    index_doc[stemmed]=1\n",
    "#                if stemmed in index_inv:\n",
    "#                    if i in index_inv[stemmed]:\n",
    "#                        index_inv[stemmed][i]+=1\n",
    "#                    else:\n",
    "#                        index_inv[stemmed][i]=1 \n",
    "#                else:\n",
    "#                    index_inv[stemmed]={i:1}\n",
    "#            index[i]=index_doc\n",
    "#        return index,index_inv\n",
    "        \n",
    "            \n",
    "#indexer=IndexerSimple(\"cacm/cacm.txt\")\n",
    "#s=time.time()\n",
    "#index,index_inv=indexer.indexation(\"cacm/cacm.txt\")\n",
    "#s2=time.time()\n",
    "#print(s2-s)         "
   ]
  },
  {
   "cell_type": "code",
   "execution_count": 11,
   "metadata": {},
   "outputs": [],
   "source": [
    "import numpy as np\n",
    "#TME2:\n",
    "#exercice 1:\n",
    "def boolean_model(index_inverse, requete):\n",
    "    docs=[]\n",
    "    for word in requete:\n",
    "        stemmed = stem(word.lower())\n",
    "        if word not in stop_words and stemmed in index_inverse:       \n",
    "            docs.append(set(index_inverse[stemmed].keys()))\n",
    "    \n",
    "    res = docs[0].intersection(*docs)\n",
    "    return res"
   ]
  },
  {
   "cell_type": "code",
   "execution_count": 12,
   "metadata": {},
   "outputs": [],
   "source": [
    "import abc\n",
    "class Weighter:\n",
    "    def __init__(self,index):\n",
    "        self.index=index #object index\n",
    "        self.words=self.WordVector()\n",
    "        \n",
    "    __metaclass__ = abc.ABCMeta\n",
    "    \n",
    "\n",
    "    @abc.abstractmethod\n",
    "    def getWeightsForDoc(self,idDoc):\n",
    "        \"\"\"Method documentation\"\"\"\n",
    "        return\n",
    "    @abc.abstractmethod\n",
    "    def getWeightsForStem(self,stem):\n",
    "        \"\"\"Method documentation\"\"\"\n",
    "        return\n",
    "    @abc.abstractmethod\n",
    "    def getWeightsForQuery(self,query):\n",
    "        \"\"\"Method documentation\"\"\"\n",
    "        return\n",
    "    \n",
    "class Weighter_TF_bool(Weighter):\n",
    "    \n",
    "    def getWeightsForDoc(self,idDoc):\n",
    "        return self.index.getTfsForDoc(idDoc)\n",
    "        \n",
    "      \n",
    "    def getWeightsForStem(self,stem):\n",
    "        return self.index.getTfsForStem(stem)\n",
    "     \n",
    "    \n",
    "    def getWeightsForQuery(self,query):\n",
    "        result={}   \n",
    "        for word in query.split():\n",
    "            stemmed = stem(word.lower())\n",
    "            if stemmed not in stop_words:\n",
    "                result[stemmed]=1\n",
    "        return result\n",
    "\n",
    "class Weighter_TF_TF(Weighter):\n",
    "    def getWeightsForDoc(self,idDoc):\n",
    "        return self.index.getTfsForDoc(idDoc)\n",
    "       \n",
    "\n",
    "    def getWeightsForStem(self,stem):\n",
    "        return self.index.getTfsForStem(stem)\n",
    "     \n",
    "\n",
    "    def getWeightsForQuery(self,query):\n",
    "        stemmer = PorterStemmer()\n",
    "        dict=stemmer.getTextRepresentation(query)      \n",
    "        return dict\n",
    "    \n",
    "class Weighter_TF_IDF(Weighter):\n",
    "    def getWeightsForDoc(self,idDoc):\n",
    "        return self.index.getTfsForDoc(idDoc)\n",
    "       \n",
    "\n",
    "    def getWeightsForStem(self,stem):\n",
    "        return self.index.getTfsForStem(stem)\n",
    "    \n",
    "    def getWeightsForQuery(self,query):\n",
    "        result = {}\n",
    "        for word in query.split():\n",
    "            if word not in stop_words:\n",
    "                stem = stem(word.lower())\n",
    "                if stem in self.index.index_inverse:\n",
    "                    df=len(self.index.index_inverse[stem])\n",
    "                    idf=math.log((1+len(self.index.index))/(1+df))\n",
    "                    result[stem]=idf\n",
    "       \n",
    "        return result \n",
    "    \n",
    "class Weighter_logTf_IDF(Weighter):\n",
    "    \n",
    "    def getWeightsForDoc(self,idDoc):\n",
    "        result = {}\n",
    "        dict=self.index.getTfsForDoc(idDoc)\n",
    "        for word in dict:\n",
    "            result[word]= 1 + math.log(dict[word])\n",
    "        return result\n",
    "    \n",
    "    def getWeightsForStem(self,stem):\n",
    "        result={}\n",
    "        dict=self.index.getTfsForStem(stem)\n",
    "        for doc in dict:\n",
    "            result[doc]=1+math.log(dict[doc])            \n",
    "        return result\n",
    "    \n",
    "    def getWeightsForQuery(self,query):\n",
    "        result = {}\n",
    "        for word in query.split():\n",
    "            if word not in stop_words:\n",
    "                stem = stem(word.lower())\n",
    "                if stem in self.index.index_inverse:\n",
    "                    df=len(self.index.index_inverse[stem])\n",
    "                    idf=math.log((1+len(self.index.index))/(1+df))\n",
    "                    result[stem]=idf\n",
    "\n",
    "        return result \n",
    "\n",
    "class Weighter_logTFidf_logTFidf(Weighter):\n",
    "    \n",
    "    def getWeightsForDoc(self,idDoc):\n",
    "        result={}\n",
    "        dict=self.index.getTfsForDoc(idDoc)\n",
    "        for word in dict:\n",
    "            df=len(self.index.index_inverse[word])\n",
    "            idf=math.log((1+len(self.index.index))/(1+df))\n",
    "            result[word]=(1+math.log(dict[word]))*idf\n",
    "       \n",
    "        return result\n",
    "    \n",
    "    def getWeightsForStem(self,stem):\n",
    "        result={}\n",
    "        df=len(self.index.index_inverse[stem])\n",
    "        idf=math.log((1+len(self.index.index))/(1+df))\n",
    "        dict=self.index.getTfsForStem(stem)\n",
    "        for doc in dict:\n",
    "            result[doc]=(1+math.log(dict[doc]))*idf         \n",
    "        return result\n",
    "    \n",
    "    def getWeightsForQuery(self,query):\n",
    "        result={}\n",
    "        stemmer = PorterStemmer()\n",
    "        dict=stemmer.getTextRepresentation(query)      \n",
    "        for stem in dict: \n",
    "            if stem in self.index.index_inverse:\n",
    "                df=len(self.index.index_inverse[stem])\n",
    "                idf=math.log((1+len(self.index.index))/(1+df))\n",
    "                result[stem]=(1+math.log(dict[stem]))*idf\n",
    "\n",
    "        return result "
   ]
  },
  {
   "cell_type": "code",
   "execution_count": 58,
   "metadata": {},
   "outputs": [],
   "source": [
    "from operator import itemgetter\n",
    "\n",
    "class IRModel:\n",
    " \n",
    "    __metaclass__ = abc.ABCMeta\n",
    "    \n",
    "    @abc.abstractmethod\n",
    "    def getScores(self, query):\n",
    "        \"\"\"Method documentation\"\"\"\n",
    "        return\n",
    "    \n",
    "    def getRanking(self, query): \n",
    "        result=self.getScores(query)\n",
    "        top=list(dict(sorted(result.items(), key = itemgetter(1), reverse = True)[:100]).keys())\n",
    "        return top\n",
    "    \n",
    "    \n",
    "class Vectoriel(IRModel):\n",
    "    def __init__(self, weighter, normalised):\n",
    "            self.weighter = weighter\n",
    "            self.normalised = normalised\n",
    "            self.normes = self.get_normes()\n",
    "    def get_normes():\n",
    "        index = self.weighter.index.index\n",
    "        resut = {}\n",
    "        for doc in index :\n",
    "            norme = math.sqrt((np.array(list(index[doc].values()))**2).sum())\n",
    "            result[doc] = norme\n",
    "        return result\n",
    "            \n",
    "    def getScores(self, query):\n",
    "        result={}\n",
    "        weights_query = self.weighter.getWeightsForQuery(query)\n",
    "        norme_query = math.sqrt((np.array(list(weights_query.values()))**2).sum())\n",
    "        \n",
    "        candidats=list({weighter.index.index_inverse[i.keys()] for i in weights_query})\n",
    "        for doc in candidats :\n",
    "            weights_doc = self.weighter.getWeightsForDoc(doc)\n",
    "            intersect = np.intersect1d(list(weights_query.keys()), list(weights_doc.keys()))\n",
    "            score = 0\n",
    "            if normalised:\n",
    "                for word in intersect:\n",
    "                        score = score + weights_doc[word]*weights_query[word]\n",
    "            else:\n",
    "                norme_intersect = 0\n",
    "                for word in intersect:\n",
    "                    norme_intersect = norme_intersect + weights_doc[word]*weights_query[word]\n",
    "                  \n",
    "                score = norme_intersect/(self.normes[doc]+ norme_query)\n",
    "            \n",
    "            result[doc] = score\n",
    "            \n",
    "        return result\n",
    "class ModeleLangue(IRModel):          \n",
    "    def __init__(self,index,landa):\n",
    "        self.index=index\n",
    "        self.landa=landa\n",
    "    def getScores(self, query):\n",
    "        stemmer = PorterStemmer()\n",
    "        new_query=stemmer.getTextRepresentation(query)\n",
    "        result={}\n",
    "        docs=self.index.index\n",
    "        index_inverse=self.index.index_inverse\n",
    "        tf_c_all=0\n",
    "        for word in index_inverse:\n",
    "            tf_c_all+=sum(index_inverse[word].values())\n",
    "        for doc in docs:\n",
    "            doc_words=docs[doc] #getTfsForDoc\n",
    "            proba_doc=1\n",
    "            for word in new_query:\n",
    "                tf_c=sum(index_inverse.get(word,{0:0}).values()) #getTfsForstem\n",
    "                if(tf_c==0):\n",
    "                    tf_c=1\n",
    "                proba_word=((1-self.landa)*(doc_words.get(word,0)/sum(doc_words.values()))) + (self.landa*(tf_c/tf_c_all))\n",
    "                proba_doc= proba_doc*proba_word\n",
    "            result[doc]=proba_doc\n",
    "        return result\n",
    "        \n",
    "class BM25(IRModel):\n",
    "    \n",
    "    def __init__(self, index, k, b): #Objet index\n",
    "        self.index = index\n",
    "        self.k = k\n",
    "        self.b = b\n",
    "        self.lengths, self.avg_length = self.lengths()\n",
    "        \n",
    "    def lengths(self):\n",
    "        index_=self.index.index\n",
    "        res={}\n",
    "        total = 0\n",
    "        for doc in index_:\n",
    "            length = len(index_[doc])\n",
    "            res[doc] = length\n",
    "            total += length\n",
    "        return res, total/len(index_)\n",
    "                       \n",
    "    def getScores(self, query):\n",
    "        stemmer = PorterStemmer()\n",
    "        words = stemmer.getTextRepresentation(query)\n",
    "        #candidats=list({self.index.index_inverse[word].keys() for word in words})\n",
    "        #scores = { doc: 0 for doc in candidats}\n",
    "        scores = {}\n",
    "        for word in words:\n",
    "            if word in self.index.index_inverse:\n",
    "                idf = self.index.getIDFForStem(word)\n",
    "                tfs = self.index.getTfsForStem(word)\n",
    "                for doc in tfs:\n",
    "                    val = (idf*tfs[doc])/( tfs[doc] + self.k*( 1 - self.b + self.b*self.lengths[doc]/self.avg_length ))\n",
    "                    if doc in scores:\n",
    "                        scores[doc] += val\n",
    "                    else:\n",
    "                        scores[doc] = val\n",
    "        return scores\n",
    "#     def getRanking(self, query):\n",
    "#         d = self.getScores(query)\n",
    "#         sorted_ = sorted(d.items(), key=lambda kv: kv[1], reverse=True)\n",
    "#         return list(collections.OrderedDict(sorted_).keys())\n",
    "        \n",
    "        "
   ]
  },
  {
   "cell_type": "code",
   "execution_count": 15,
   "metadata": {},
   "outputs": [],
   "source": [
    "indexer=IndexerSimple(\"cacm.txt\")"
   ]
  },
  {
   "cell_type": "code",
   "execution_count": 60,
   "metadata": {},
   "outputs": [],
   "source": [
    "bm25 = BM25(indexer, 1, 0.75)"
   ]
  },
  {
   "cell_type": "code",
   "execution_count": 263,
   "metadata": {},
   "outputs": [],
   "source": [
    "stemmer = PorterStemmer()\n",
    "stemmed_doc = stemmer.getTextRepresentation(indexer.getStrDoc(\"1502\")) \n",
    "stemmed_query = stemmer.getTextRepresentation( \"What articles exist which deal with TSS (Time Sharing System), anoperating system for IBM computers?\")\n",
    "for x in stemmed_query:\n",
    "    if x in stemmed_doc:\n",
    "        print(x, stemmed_doc[x])"
   ]
  },
  {
   "cell_type": "code",
   "execution_count": 63,
   "metadata": {},
   "outputs": [],
   "source": [
    "class Query():\n",
    "    def __init__(self, id, query, rel):\n",
    "        self.id = id\n",
    "        self.query = query\n",
    "        self.rel = rel\n",
    "        \n",
    "    def get_doc(self, rank):   \n",
    "        if rank <= len(self.rel) and rank > 0 :\n",
    "            return self.rel[rank-1]\n",
    "        \n",
    "        \n",
    "class QueryParser():\n",
    "    def __init__(self, q_file, rel_file):\n",
    "        self.q_file = q_file\n",
    "        self.rel_file = rel_file\n",
    "        \n",
    "    def parse(self):\n",
    "        \n",
    "        with open(self.rel_file, 'r') as f_qrel:\n",
    "            rels = {}\n",
    "            while True:\n",
    "                line = f_qrel.readline()\n",
    "                matchObj = re.match(\"([0-9]*) ([0-9]*) .*\" , line )\n",
    "                if matchObj:\n",
    "                    q_id = str(int(matchObj.group(1)))\n",
    "                    doc = matchObj.group(2)\n",
    "                    if q_id in rels :\n",
    "                        rels[q_id].append(doc)\n",
    "                    else:\n",
    "                        rels[q_id] = [doc]\n",
    "                        \n",
    "                if line == \"\":\n",
    "                    break\n",
    "                    \n",
    "        var = open(self.q_file,'r')\n",
    "        fichier=var.read().replace(\"\\n\",'#').replace(\"\\t\",' ')\n",
    "        x = re.findall(\"(?<=\\.I )(\\d*.*?)(?=(\\.I \\d*|\\Z))\",fichier)\n",
    "        \n",
    "        result = []\n",
    "        \n",
    "        for elt in x:\n",
    "            st = elt[0]+elt[1]\n",
    "            id=re.findall(\"(\\d*?)#\\.\",elt[0])\n",
    "            if id[0] in rels:\n",
    "                y = re.findall(\"(?<=\\.W#)(.*?)(?=\\.[A-Z]#)\",st)\n",
    "                y = re.sub(\"#\", \" \", y[0])\n",
    "                result.append(Query(id[0], y, rels[id[0]]))\n",
    "            \n",
    "        return result"
   ]
  },
  {
   "cell_type": "code",
   "execution_count": 64,
   "metadata": {},
   "outputs": [],
   "source": [
    "class EvalMesure():\n",
    "    def evalQuery(self, docs, query):\n",
    "        return\n",
    "\n",
    "class Recip_rank(EvalMesure):\n",
    "    \n",
    "    @staticmethod\n",
    "    def evalQuery(docs, query):  \n",
    "        first_doc = query.get_doc(1)\n",
    "        if first_doc in docs:\n",
    "            return 1/(docs.index(first_doc)+1)\n",
    "        else:\n",
    "            return 1/len(docs)"
   ]
  },
  {
   "cell_type": "code",
   "execution_count": 166,
   "metadata": {},
   "outputs": [],
   "source": [
    "class NDCG_at_k(EvalMesure):\n",
    "    \n",
    "    @staticmethod\n",
    "    def evalQuery(docs, query, k):  \n",
    "        if k > len(docs):\n",
    "            k = len(docs)\n",
    "        idcg = np.array([1/math.log2(i) for i in range(2, len(query.rel)+1)]).sum()+1\n",
    "        doc = docs[0]\n",
    "        if doc in query.rel:\n",
    "            dcg = 1\n",
    "        else:\n",
    "            dcg = 0\n",
    "        for i in range(2, k+1):\n",
    "            doc = docs[i-1]\n",
    "            if doc in query.rel:\n",
    "                dcg += 1/math.log2(i)\n",
    "        return dcg/idcg\n",
    "class Precision(EvalMesure):\n",
    "    @staticmethod\n",
    "    def evalQuery(docs, query, k):  \n",
    "        precision=0\n",
    "        for i in range(k):\n",
    "            if docs[i] in query.rel:\n",
    "                precision+=1\n",
    "        return precision/k\n",
    "class Recall(EvalMesure):\n",
    "    @staticmethod\n",
    "    def evalQuery(docs, query, k):  \n",
    "        recall=0\n",
    "        for i in range(k):\n",
    "            if docs[i] in query.rel:\n",
    "                recall+=1\n",
    "        return recall/len(query.rel)\n",
    "class AvgP(EvalMesure):\n",
    "    @staticmethod\n",
    "    def evalQuery(docs, query):  \n",
    "        div=0\n",
    "        sum=0\n",
    "        for i in range(len(docs)):\n",
    "            if docs[i] in query.rel:\n",
    "                sum+=Precision.evalQuery(docs,query,i+1)\n",
    "                div+=1\n",
    "        if sum==0:\n",
    "            return 0\n",
    "        return sum/div\n",
    "class FMeasure(EvalMesure):\n",
    "    @staticmethod\n",
    "    def evalQuery(docs, query, k):  \n",
    "        precision=Precision.evalQuery(docs,query,k)\n",
    "        recall=Recall.evalQuery(docs,query,k)\n",
    "        f_measure= (2*precision*recall)/(precision+recall)\n",
    "        return f_measure"
   ]
  },
  {
   "cell_type": "code",
   "execution_count": 66,
   "metadata": {},
   "outputs": [],
   "source": [
    "parser = QueryParser(\"cacm/cacm.qry\", \"cacm/cacm.rel\")"
   ]
  },
  {
   "cell_type": "code",
   "execution_count": 67,
   "metadata": {},
   "outputs": [],
   "source": [
    "query_rels = parser.parse()"
   ]
  },
  {
   "cell_type": "code",
   "execution_count": 125,
   "metadata": {},
   "outputs": [
    {
     "data": {
      "text/plain": [
       "0.04"
      ]
     },
     "execution_count": 125,
     "metadata": {},
     "output_type": "execute_result"
    }
   ],
   "source": [
    "query = query_rels[0]\n",
    "\n",
    "docs = bm25.getRanking(query.query)\n",
    "docs_= lang_model.getRanking(query.query)\n",
    "Recip_rank.evalQuery(docs, query)\n",
    "Precision.evalQuery(docs, query, 100)\n",
    "Precision.evalQuery(docs_,query,100)"
   ]
  },
  {
   "cell_type": "code",
   "execution_count": 126,
   "metadata": {},
   "outputs": [
    {
     "name": "stdout",
     "output_type": "stream",
     "text": [
      "0.19423305073221667\n",
      "0.21161814751112623\n"
     ]
    }
   ],
   "source": [
    "print(NDCG_at_k.evalQuery(docs, query, 100))\n",
    "print(NDCG_at_k.evalQuery(docs_, query, 100))"
   ]
  },
  {
   "cell_type": "code",
   "execution_count": 127,
   "metadata": {},
   "outputs": [
    {
     "name": "stdout",
     "output_type": "stream",
     "text": [
      "0.8\n",
      "0.8\n"
     ]
    }
   ],
   "source": [
    "print(Recall.evalQuery(docs,query,100))\n",
    "print(Recall.evalQuery(docs_,query,100))"
   ]
  },
  {
   "cell_type": "code",
   "execution_count": 128,
   "metadata": {},
   "outputs": [
    {
     "name": "stdout",
     "output_type": "stream",
     "text": [
      "0.04158438666726643\n",
      "0.050834503842022635\n"
     ]
    }
   ],
   "source": [
    "print(AvgP.evalQuery(docs,query))\n",
    "print(AvgP.evalQuery(docs_,query))"
   ]
  },
  {
   "cell_type": "code",
   "execution_count": 167,
   "metadata": {},
   "outputs": [],
   "source": [
    "class EvalIRModel():\n",
    "    \n",
    "    @staticmethod\n",
    "    def ndcg(models, queries,  k):\n",
    "        result = []\n",
    "        for model in models:\n",
    "            ndcg = 0\n",
    "            for query in queries:\n",
    "                ranking = model.getRanking(query.query)\n",
    "                ndcg += NDCG_at_k.evalQuery(ranking, query, k)\n",
    "            ndcg = ndcg/len(queries)\n",
    "            result.append(ndcg)\n",
    "        return result\n",
    "    \n",
    "    @staticmethod\n",
    "    def mrr(models, queries):\n",
    "        result = []\n",
    "        for model in models:\n",
    "            mrr = 0\n",
    "            for query in queries:\n",
    "                ranking = model.getRanking(query.query)\n",
    "                mrr += Recip_rank.evalQuery(ranking, query)\n",
    "            mrr = mrr/len(queries)\n",
    "            result.append(mrr)\n",
    "        return result\n",
    "    @staticmethod\n",
    "    def precision(models, queries,k):\n",
    "        result = []\n",
    "        for model in models:\n",
    "            precision = 0\n",
    "            for query in queries:\n",
    "                ranking = model.getRanking(query.query)\n",
    "                precision += Precision.evalQuery(ranking, query,k)\n",
    "            precision = precision/len(queries)\n",
    "            result.append(precision)\n",
    "        return result\n",
    "    @staticmethod\n",
    "    def recall(models, queries,k):\n",
    "        result = []\n",
    "        for model in models:\n",
    "            recall = 0\n",
    "            for query in queries:\n",
    "                ranking = model.getRanking(query.query)\n",
    "                recall += Recall.evalQuery(ranking, query,k)\n",
    "            recall = recall/len(queries)\n",
    "            result.append(recall)\n",
    "        return result\n",
    "    @staticmethod\n",
    "    def map(models, queries):\n",
    "        result = []\n",
    "        for model in models:\n",
    "            map = 0\n",
    "            for query in queries:\n",
    "                ranking = model.getRanking(query.query)\n",
    "                map += AvgP.evalQuery(ranking, query)\n",
    "            map = map/len(queries)\n",
    "            result.append(map)\n",
    "        return result\n",
    "    @staticmethod\n",
    "    def f_measure(models, queries,k):\n",
    "        result = []\n",
    "        for model in models:\n",
    "            f_measure = 0\n",
    "            for query in queries:\n",
    "                ranking = model.getRanking(query.query)\n",
    "                f_measure += FMeasure.evalQuery(ranking, query,k)\n",
    "            f_measure = f_measure/len(queries)\n",
    "            result.append(f_measure)\n",
    "        return result"
   ]
  },
  {
   "cell_type": "code",
   "execution_count": 326,
   "metadata": {},
   "outputs": [
    {
     "data": {
      "text/plain": [
       "[0.480017840021094]"
      ]
     },
     "execution_count": 326,
     "metadata": {},
     "output_type": "execute_result"
    }
   ],
   "source": [
    "EvalIRModel.ndcg([bm25], query_rels, 4204)"
   ]
  },
  {
   "cell_type": "code",
   "execution_count": 296,
   "metadata": {},
   "outputs": [
    {
     "data": {
      "text/plain": [
       "[0.09323271242565728]"
      ]
     },
     "execution_count": 296,
     "metadata": {},
     "output_type": "execute_result"
    }
   ],
   "source": [
    "EvalIRModel.mrr([bm25], query_rels)"
   ]
  },
  {
   "cell_type": "code",
   "execution_count": 327,
   "metadata": {},
   "outputs": [
    {
     "data": {
      "text/plain": [
       "0.18308630091872796"
      ]
     },
     "execution_count": 327,
     "metadata": {},
     "output_type": "execute_result"
    }
   ],
   "source": [
    "# test avec sklearn \n",
    "arr = np.zeros(4204)\n",
    "arr_ = np.zeros(4204)\n",
    "for doc in docs:\n",
    "    arr[int(doc)-1] = 1\n",
    "for doc in query.rel:\n",
    "    arr_[int(doc)-1] = 1\n",
    "    \n",
    "    \n",
    "from sklearn.metrics import ndcg_score\n",
    "# we have groud-truth relevance of some answers to a query:\n",
    "true_relevance = np.asarray([arr_])\n",
    "# we predict some scores (relevance) for the answers\n",
    "scores = np.asarray([arr])\n",
    "ndcg_score(true_relevance, scores)"
   ]
  },
  {
   "cell_type": "code",
   "execution_count": 222,
   "metadata": {},
   "outputs": [],
   "source": [
    "#grid search tme2\n",
    "train, test = train_test_split( queries, test_size=0.33, random_state=42, shuffle=True)\n",
    "list_b=np.linspace(0,2,20)\n",
    "list_k1=np.linspace(0,2,20)\n",
    "list_landa=np.linspace(0,1,20)"
   ]
  },
  {
   "cell_type": "code",
   "execution_count": 223,
   "metadata": {},
   "outputs": [],
   "source": [
    "models_bm25=[]\n",
    "vals=[]\n",
    "#cpt=0\n",
    "for b in list_b:\n",
    "    for k1 in list_k1:\n",
    "        bm25 = BM25(indexer,k1, b)\n",
    "        models_bm25.append(bm25)\n",
    "        t=(b,k1)\n",
    "        vals.append(t)\n",
    "#             docs = bm25.getRanking(query)[:20]\n",
    "#         docs_query.append(docs)\n",
    "#     docs_bm25[cpt]=docs_query\n",
    "#     cpt+=1\n"
   ]
  },
  {
   "cell_type": "code",
   "execution_count": 224,
   "metadata": {},
   "outputs": [],
   "source": [
    "precisions=np.array(EvalIRModel.precision(models_bm25, train, 100))\n",
    "map=np.array(EvalIRModel.map(models_bm25, train))"
   ]
  },
  {
   "cell_type": "code",
   "execution_count": 225,
   "metadata": {},
   "outputs": [
    {
     "name": "stdout",
     "output_type": "stream",
     "text": [
      "meilleures valeurs selon la précision (b,k1) (1.263157894736842, 1.789473684210526)  avec une précision de: 0.08029411764705882\n",
      "meilleures valeurs selon map (b,k1) (0.631578947368421, 1.4736842105263157)  avec une map de: 0.35216559977004175\n"
     ]
    }
   ],
   "source": [
    "max_precision=np.max(precisions)\n",
    "best_vals=vals[np.where(precisions==max_precision)[0][0]]\n",
    "print(\"meilleures valeurs selon la précision (b,k1)\",best_vals,\" avec une précision de:\", max_precision)\n",
    "max_map=np.max(map)\n",
    "best_vals=vals[np.where(map==max_map)[0][0]]\n",
    "print(\"meilleures valeurs selon map (b,k1)\",best_vals,\" avec une map de:\", max_map)"
   ]
  },
  {
   "cell_type": "code",
   "execution_count": 226,
   "metadata": {},
   "outputs": [
    {
     "name": "stdout",
     "output_type": "stream",
     "text": [
      "map données par les parmametres: (0.631578947368421, 1.4736842105263157) sur les données de test: 0.27894587293974094\n"
     ]
    }
   ],
   "source": [
    "#tester ces valeurs sur les données de test:\n",
    "map=np.array(EvalIRModel.map([BM25(indexer,best_vals[1], best_vals[0] )], test))\n",
    "print(\"map données par les parmametres:\",best_vals,\"sur les données de test:\",map[0])"
   ]
  },
  {
   "cell_type": "code",
   "execution_count": 159,
   "metadata": {},
   "outputs": [],
   "source": [
    "models_langue=[]\n",
    "vals=[]\n",
    "for landa in list_landa:\n",
    "    langue = ModeleLangue(indexer,landa)\n",
    "    models_langue.append(langue)\n",
    "    vals.append(landa)\n"
   ]
  },
  {
   "cell_type": "code",
   "execution_count": 160,
   "metadata": {},
   "outputs": [],
   "source": [
    "precisions_l=np.array(EvalIRModel.precision(models_langue, train, 100))\n",
    "map_l=np.array(EvalIRModel.map(models_langue, train))"
   ]
  },
  {
   "cell_type": "code",
   "execution_count": 161,
   "metadata": {},
   "outputs": [
    {
     "name": "stdout",
     "output_type": "stream",
     "text": [
      "meilleures valeurs selon la précision lambda 0.9473684210526315  avec une précision de: 0.0811764705882353\n",
      "meilleures valeurs selon map lambda 0.6842105263157894  avec une map de: 0.3847071536954182\n"
     ]
    }
   ],
   "source": [
    "max_precision_l=np.max(precisions_l)\n",
    "best_vals_l=vals[np.where(precisions_l==max_precision_l)[0][0]]\n",
    "print(\"meilleures valeurs selon la précision lambda\",best_vals_l,\" avec une précision de:\", max_precision_l)\n",
    "max_map_l=np.max(map_l)\n",
    "best_vals_l=vals[np.where(map_l==max_map_l)[0][0]]\n",
    "print(\"meilleures valeurs selon map lambda\",best_vals_l,\" avec une map de:\", max_map_l)"
   ]
  },
  {
   "cell_type": "code",
   "execution_count": 164,
   "metadata": {},
   "outputs": [
    {
     "name": "stdout",
     "output_type": "stream",
     "text": [
      "map données par les parmametres: 0.6842105263157894 sur les données de test: 0.2967698396090046\n"
     ]
    }
   ],
   "source": [
    "#tester ces valeurs sur les données de test:\n",
    "map=np.array(EvalIRModel.map([ModeleLangue(indexer,best_vals_l)], test))\n",
    "print(\"map données par les parmametres:\",best_vals_l,\"sur les données de test:\",map[0])"
   ]
  },
  {
   "cell_type": "code",
   "execution_count": 227,
   "metadata": {},
   "outputs": [
    {
     "ename": "TypeError",
     "evalue": "only integer scalar arrays can be converted to a scalar index",
     "output_type": "error",
     "traceback": [
      "\u001b[1;31m---------------------------------------------------------------------------\u001b[0m",
      "\u001b[1;31mTypeError\u001b[0m                                 Traceback (most recent call last)",
      "\u001b[1;32m<ipython-input-227-5e9cae1d0562>\u001b[0m in \u001b[0;36m<module>\u001b[1;34m\u001b[0m\n\u001b[0;32m     14\u001b[0m \u001b[1;33m\u001b[0m\u001b[0m\n\u001b[0;32m     15\u001b[0m \u001b[1;32mfor\u001b[0m \u001b[0mtrain_index\u001b[0m\u001b[1;33m,\u001b[0m \u001b[0mtest_index\u001b[0m \u001b[1;32min\u001b[0m \u001b[0mkf\u001b[0m\u001b[1;33m.\u001b[0m\u001b[0msplit\u001b[0m\u001b[1;33m(\u001b[0m\u001b[0mquery_rels\u001b[0m\u001b[1;33m)\u001b[0m\u001b[1;33m:\u001b[0m\u001b[1;33m\u001b[0m\u001b[1;33m\u001b[0m\u001b[0m\n\u001b[1;32m---> 16\u001b[1;33m     \u001b[0mq_train\u001b[0m\u001b[1;33m,\u001b[0m \u001b[0mq_test\u001b[0m \u001b[1;33m=\u001b[0m \u001b[0mquery_rels\u001b[0m\u001b[1;33m[\u001b[0m\u001b[0mtrain_index\u001b[0m\u001b[1;33m]\u001b[0m\u001b[1;33m,\u001b[0m \u001b[0mquery_rels\u001b[0m\u001b[1;33m[\u001b[0m\u001b[0mtest_index\u001b[0m\u001b[1;33m]\u001b[0m\u001b[1;33m\u001b[0m\u001b[1;33m\u001b[0m\u001b[0m\n\u001b[0m\u001b[0;32m     17\u001b[0m     \u001b[0mmodels_bm25\u001b[0m\u001b[1;33m=\u001b[0m\u001b[1;33m[\u001b[0m\u001b[1;33m]\u001b[0m\u001b[1;33m\u001b[0m\u001b[1;33m\u001b[0m\u001b[0m\n\u001b[0;32m     18\u001b[0m     \u001b[0mvals\u001b[0m\u001b[1;33m=\u001b[0m\u001b[1;33m[\u001b[0m\u001b[1;33m]\u001b[0m\u001b[1;33m\u001b[0m\u001b[1;33m\u001b[0m\u001b[0m\n",
      "\u001b[1;31mTypeError\u001b[0m: only integer scalar arrays can be converted to a scalar index"
     ]
    }
   ],
   "source": [
    "#cross-validation \n",
    "from sklearn.model_selection import KFold\n",
    "\n",
    "kf = KFold(n_splits=5)\n",
    "list_b=np.linspace(0,1,11)\n",
    "list_k1=np.linspace(0,2,11)\n",
    "\n",
    "params_map = []\n",
    "score_map = []\n",
    "test_map = []\n",
    "params_precision = []\n",
    "score_precision = []\n",
    "test_precision = []\n",
    "\n",
    "for train_index, test_index in kf.split(query_rels):\n",
    "    q_train, q_test = query_rels[train_index], query_rels[test_index]\n",
    "    models_bm25=[]\n",
    "    vals=[]\n",
    "    for b in list_b:\n",
    "        for k1 in list_k1:\n",
    "            bm25 = BM25(indexer,k1, b)\n",
    "            models_bm25.append(bm25)\n",
    "            t=(b,k1)\n",
    "            vals.append(t)\n",
    "            \n",
    "    prec = np.array(EvalIRModel.precision(models_bm25, q_train, 100))\n",
    "    mp = np.array(EvalIRModel.map(models_bm25, q_train))\n",
    "    \n",
    "    max_precision=np.max(prec)\n",
    "    best_vals=vals[np.where(prec==max_precision)[0][0]]  \n",
    "    bm25 = BM25(indexer, best_vals[0], best_vals[1])\n",
    "    \n",
    "    params_precision.append(best_vals)\n",
    "    score_precision.append(max_precision)\n",
    "    test_precision.append(EvalIRModel.precision([bm25], q_test, 100)[0])\n",
    "    \n",
    "    max_map=np.max(mp)\n",
    "    best_vals=vals[np.where(mp==max_map)[0][0]]  \n",
    "    bm25 = BM25(indexer, best_vals[0], best_vals[1])\n",
    "    \n",
    "    params_map.append(best_vals)\n",
    "    score_map.append(max_map)\n",
    "    test_map.append(EvalIRModel.map([bm25], q_test)[0])\n",
    "    \n",
    "    \n",
    "print(params_map)\n",
    "print(score_map)\n",
    "print(test_map)\n",
    "print(params_precision)\n",
    "print(score_precision)\n",
    "print(test_precision)"
   ]
  },
  {
   "cell_type": "code",
   "execution_count": 169,
   "metadata": {},
   "outputs": [],
   "source": [
    "class HyperlinkIndexer:\n",
    "    \n",
    "    def __init__(self,file):\n",
    "        self.index,self.index_inverse = self.indexation(file)        \n",
    "        \n",
    "    def indexation(self,file):\n",
    "                         \n",
    "        var = open(file,'r')\n",
    "        fichier=var.read().replace(\"\\n\",'#').replace(\"\\t\",' ')\n",
    "        x = re.findall(\"(?<=\\.I )(\\d*.*?)(?=(\\.I \\d*|\\Z))\",fichier) \n",
    "        index = {}\n",
    "        index_inv = {}\n",
    "        \n",
    "        for elt in x:\n",
    "            st = elt[0]+elt[1]\n",
    "            id=re.findall(\"(\\d*?)#\\.\",elt[0])[0]\n",
    "            links = re.findall(\"(?<=\\.X#)(.*?)(?=\\.(?:I | [A-Z]#))\",st)\n",
    "            if len(links)>0:\n",
    "                links = links[0].split(\"#\")\n",
    "                links_ = {}\n",
    "                for link in links :\n",
    "                    if link != \"\" and  re.match(\"[0-9]* [0-9]* [0-9]*\", link) :\n",
    "                        link_ = link.split()\n",
    "                        link_ = link_[0]\n",
    "                        if link_ in links_:\n",
    "                            links_[link_]+=1\n",
    "                        else:\n",
    "                            links_[link_]=1\n",
    "                            \n",
    "                        if link_ in index_inv:\n",
    "                            if id in index_inv[link_]:\n",
    "                                index_inv[link_][id]+=1\n",
    "                            else:\n",
    "                                index_inv[link_][id]=1\n",
    "                        else:\n",
    "                            index_inv[link_]={id:1}\n",
    "                            \n",
    "                index[id] = links_\n",
    "        return index, index_inv  \n",
    "        \n",
    "    def getHyperlinksTo(self, doc):\n",
    "        if doc in self.index_inverse:\n",
    "            return self.index_inverse[doc]\n",
    "\n",
    "    def getHyperlinksFrom(self, doc):\n",
    "        if doc in self.index:\n",
    "            return self.index[doc]"
   ]
  },
  {
   "cell_type": "code",
   "execution_count": 203,
   "metadata": {},
   "outputs": [
    {
     "name": "stdout",
     "output_type": "stream",
     "text": [
      "{'1795': 1, '402': 1, '1082': 1, '1181': 1, '373': 1, '2725': 1, '3129': 1}\n"
     ]
    }
   ],
   "source": [
    "hi = HyperlinkIndexer(\"cacm.txt\")\n",
    "\n",
    "    \n",
    "print(hi.getHyperlinksFrom(\"3230\"))"
   ]
  },
  {
   "cell_type": "code",
   "execution_count": 220,
   "metadata": {},
   "outputs": [],
   "source": [
    "import random\n",
    "def sous_graphe(model,n,k, queries, HlinkIndexer):\n",
    "    result={}\n",
    "    cpt=1\n",
    "    for query in queries:\n",
    "        ranking= model.getRanking(query.query)[:n]\n",
    "        vq=ranking.copy()\n",
    "        for doc in ranking:\n",
    "            vq.extend(list(HlinkIndexer.getHyperlinksFrom(doc).keys()))\n",
    "            cites=HlinkIndexer.getHyperlinksTo(doc)\n",
    "            if cites != None:\n",
    "                if len(cites)>=k:\n",
    "                    alea=random.sample(list(cites.keys()), k)\n",
    "                else:\n",
    "                    alea=random.sample(list(cites.keys()), len(cites))\n",
    "                vq.extend(alea)\n",
    "        result[cpt]=list(set(vq))\n",
    "        cpt+=1\n",
    "    return result\n",
    "result=sous_graphe(bm25,20,3,query_rels,hi)       \n",
    "    "
   ]
  },
  {
   "cell_type": "code",
   "execution_count": 221,
   "metadata": {},
   "outputs": [
    {
     "name": "stdout",
     "output_type": "stream",
     "text": [
      "{1: ['1991', '2847', '767', '2220', '764', '3119', '2179', '835', '793', '1813', '214', '1245', '994', '2822', '343', '3604', '2879', '2999', '1684', '3230', '183', '738', '428', '402', '3069', '215', '2312', '515', '1352', '1659', '1239', '547', '2873', '2237', '1002', '1194', '361', '442', '2387', '310', '2950', '2156', '1357', '1824', '2665', '2042', '552', '912', '2139', '1108', '372', '759', '1227', '917', '553', '298', '200', '4096', '3140', '1065', '404', '1444', '2343', '3129', '2190', '808', '3489', '255', '3895', '52', '1082', '727', '124', '2988', '855', '2754', '1770', '1950', '2912', '2636', '4139', '446', '3942', '2971', '2274', '2188', '1557', '2418', '961', '705', '1840', '1772', '3020', '2176', '536', '1913', '1945', '40', '1406', '335', '2480', '2862', '1329', '3026', '2572', '355', '2185', '2575', '2753', '1606', '2173', '269', '2622', '3961', '947', '373', '833', '1613', '1053', '2793', '3118', '276', '1795', '2725', '3281', '2776', '195', '2267', '1680', '3194', '1257', '2484', '2059', '1428', '973', '2949', '1409', '667', '3099', '670', '1574', '2341', '1596', '1760', '2108', '2180', '2365', '2407', '3094', '571', '2734', '2832', '468', '1008', '1716', '2886', '2816', '1181', '1042', '1994', '3842', '441', '1531', '1446', '231', '2233', '3958', '2166', '46', '110', '1845', '2809', '2223', '3389', '2044', '2876', '1274', '1195', '2884', '2381', '4030', '816', '700', '813', '188', '965', '3938', '9', '460', '107', '623', '2915', '688', '2952', '514', '24', '1016', '1672', '1122', '3364', '717', '568', '3258', '2826', '1098', '2383', '1555', '2601', '499', '2120', '3145', '937', '2621', '1437', '3931', '2506', '3083', '1187', '35', '1761', '3090', '2466', '2366', '3892', '1176', '828', '995', '4036', '3597', '159', '3016', '2205', '905'], 2: ['1991', '318', '3', '532', '2847', '4', '2354', '1517', '1736', '2179', '3615', '2210', '860', '835', '1423', '3014', '2844', '2074', '343', '838', '3604', '2999', '2658', '62', '1684', '2533', '588', '3396', '2347', '515', '1920', '1352', '1925', '630', '1244', '2781', '2237', '3369', '2527', '236', '503', '310', '2856', '2395', '2435', '2869', '2783', '552', '703', '3208', '2514', '2357', '2139', '1108', '2495', '1418', '3401', '759', '1467', '3138', '471', '2746', '3793', '1642', '1643', '2668', '245', '2343', '3489', '1500', '2698', '3895', '407', '2258', '855', '598', '1556', '1950', '1731', '2037', '2274', '2524', '2520', '2276', '539', '375', '1127', '961', '1772', '19', '2485', '3270', '2416', '496', '3026', '1035', '1329', '2107', '2753', '3036', '985', '2161', '1005', '2774', '3961', '246', '2875', '833', '2414', '2793', '1881', '1710', '195', '2776', '1680', '3194', '331', '1978', '29', '2517', '973', '968', '2949', '667', '1777', '670', '350', '2341', '1596', '4126', '2983', '4019', '580', '1138', '993', '1042', '223', '2690', '1986', '2233', '2317', '46', '110', '1412', '3389', '3224', '3922', '576', '2884', '2381', '1926', '103', '2458', '1872', '816', '1402', '1433', '50', '2589', '3175', '188', '2289', '2155', '3168', '9', '2263', '713', '623', '439', '3872', '237', '560', '3552', '1672', '2889', '3714', '2383', '1098', '366', '1811', '2794', '1554', '499', '2047', '885', '2085', '3145', '953', '2720', '3083', '3090', '1761', '1894', '2865', '3892', '828', '1817', '2871', '159', '1968', '88'], 3: ['2847', '3341', '60', '2298', '2498', '2597', '662', '3466', '2210', '3482', '3740', '1722', '2857', '168', '1245', '1310', '2074', '2844', '306', '311', '3157', '1364', '215', '1798', '2924', '2555', '1244', '2457', '752', '3314', '1002', '361', '442', '2387', '2950', '2856', '96', '2156', '2435', '794', '3173', '2598', '2552', '2618', '2813', '125', '754', '3208', '1506', '2495', '337', '3138', '601', '1361', '438', '2556', '1643', '3489', '1692', '2550', '1500', '2698', '407', '2907', '2004', '1050', '2000', '324', '2504', '2754', '598', '883', '1731', '1319', '86', '2667', '1127', '1200', '2541', '336', '1630', '3055', '3959', '3115', '3192', '2700', '496', '2185', '3907', '2753', '2575', '482', '639', '2182', '2534', '1005', '269', '2603', '2322', '2523', '246', '1339', '3004', '2412', '1717', '1715', '3281', '3052', '331', '1034', '1978', '4144', '1689', '3800', '275', '2543', '2407', '466', '2837', '3094', '2983', '4019', '580', '2146', '299', '43', '2690', '690', '3849', '2326', '2960', '2233', '2587', '2627', '1412', '2809', '2592', '815', '2238', '3051', '2876', '418', '57', '1816', '1494', '596', '1699', '3175', '188', '850', '2589', '776', '688', '2915', '2272', '290', '1057', '1583', '3397', '237', '141', '1122', '2243', '1781', '3714', '4107', '2095', '1811', '1554', '2266', '2047', '2120', '1628', '937', '2111', '2652', '523', '148', '271', '562', '2948', '227', '932', '2943', '828', '2963', '3965', '1817', '2868', '1327', '3597', '1309', '3792', '2953'], 4: ['3739', '532', '265', '2198', '820', '1107', '1616', '3341', '886', '1125', '896', '304', '2145', '2432', '2214', '1861', '2113', '2860', '1813', '469', '793', '3019', '168', '293', '874', '2954', '838', '2867', '1332', '2891', '1880', '3230', '183', '3517', '402', '3069', '1185', '2553', '1413', '1659', '401', '4079', '2873', '84', '1029', '1507', '3369', '2154', '312', '503', '2254', '2230', '1295', '96', '2072', '1018', '2869', '147', '2585', '2665', '522', '3134', '1470', '3208', '2479', '1842', '3174', '2290', '2576', '917', '2772', '3641', '2851', '983', '3152', '404', '1045', '2208', '3129', '976', '1154', '808', '3489', '3648', '2004', '52', '1082', '1050', '124', '1079', '324', '855', '1556', '883', '734', '2260', '1605', '2360', '2541', '2057', '888', '1757', '1153', '1840', '903', '1965', '1618', '783', '2709', '1560', '2264', '222', '474', '2862', '792', '496', '635', '1434', '482', '342', '2185', '1171', '3036', '1005', '1165', '373', '801', '1339', '3023', '1465', '2801', '1795', '2725', '3946', '130', '2380', '20', '1680', '2242', '1508', '414', '1919', '2484', '29', '4032', '376', '2084', '216', '1777', '2165', '3099', '2543', '1514', '350', '1760', '3832', '3094', '1157', '2385', '3384', '1138', '1989', '2259', '386', '2112', '1247', '2302', '1181', '1042', '299', '3842', '587', '909', '2349', '4202', '2791', '534', '2233', '2166', '2648', '110', '1379', '2070', '2152', '2649', '2009', '464', '1274', '57', '1345', '1113', '1872', '4012', '2683', '3175', '36', '696', '460', '107', '279', '2248', '2327', '1411', '28', '1211', '2699', '2081', '2938', '956', '1918', '787', '2545', '2584', '1092', '1628', '1802', '3336', '1589', '3316', '382', '227', '2865', '2369', '2943', '3404', '1702', '2868', '2064', '234', '2759', '1841', '160', '2643', '2249', '2060', '253', '48', '88', '830', '1563', '1281'], 5: ['318', '2605', '2521', '1972', '3339', '771', '2220', '767', '3119', '2179', '262', '2597', '764', '2432', '2394', '1813', '469', '1722', '214', '1814', '2822', '994', '2688', '1332', '1684', '738', '1364', '3396', '2347', '379', '1352', '401', '1239', '1244', '2457', '2873', '2527', '2156', '794', '1357', '125', '2955', '3208', '1506', '359', '785', '372', '3138', '3011', '1227', '3140', '3152', '3469', '1800', '1444', '2208', '2190', '1647', '2830', '2258', '2141', '2087', '2463', '855', '1770', '3942', '1319', '2276', '539', '3033', '1219', '2360', '1820', '961', '705', '1153', '288', '2176', '536', '335', '2416', '2480', '2226', '3026', '4028', '342', '3907', '1606', '3186', '2637', '269', '2622', '947', '1053', '1613', '1710', '3281', '151', '414', '1257', '2059', '893', '29', '1428', '3431', '4038', '1574', '2407', '2365', '571', '1989', '468', '2832', '1716', '993', '2886', '2816', '3260', '299', '226', '1829', '1541', '2500', '2537', '2960', '3958', '191', '46', '110', '2592', '2223', '765', '815', '2009', '2044', '576', '2884', '654', '1872', '1433', '1402', '3282', '2007', '2828', '965', '188', '3175', '2263', '2305', '107', '290', '439', '1583', '28', '1129', '2952', '2405', '514', '1569', '1598', '3364', '717', '2826', '366', '1555', '823', '2120', '885', '3711', '790', '1802', '2652', '2621', '2506', '548', '271', '742', '35', '3892', '3455', '3404', '3965', '2064', '234', '4036', '2249', '3016', '830', '905'], 6: ['1991', '873', '3', '2281', '532', '2494', '1190', '2506', '1489', '2273', '1425', '1939', '1128', '44', '896', '2269', '3482', '835', '2432', '2268', '2860', '469', '1399', '3176', '343', '3604', '306', '2999', '3531', '1332', '2573', '3230', '42', '402', '2672', '2553', '1659', '401', '2645', '3647', '1347', '2237', '1086', '351', '1289', '310', '2072', '1295', '1240', '2156', '2869', '2552', '522', '2618', '125', '2245', '2514', '1108', '2139', '785', '2479', '759', '3174', '831', '1467', '2368', '2772', '3140', '3152', '404', '1444', '4037', '3129', '2208', '2343', '2583', '2128', '52', '1082', '1079', '2000', '855', '883', '493', '2164', '3780', '655', '2274', '1160', '2360', '336', '888', '1153', '1772', '313', '1618', '783', '2119', '185', '486', '243', '2050', '2700', '2416', '1259', '496', '1329', '2226', '3026', '2185', '342', '943', '1593', '1073', '1448', '1165', '2901', '269', '1146', '373', '1152', '1691', '2322', '2523', '833', '2793', '2801', '1795', '2725', '3281', '2380', '195', '20', '1680', '2469', '2242', '475', '29', '616', '893', '667', '3431', '3880', '1514', '186', '1596', '2341', '420', '2413', '2385', '386', '2983', '1989', '468', '448', '1181', '1441', '384', '43', '1541', '690', '2791', '1362', '2537', '2627', '110', '1379', '46', '432', '1942', '1984', '3389', '2009', '974', '3051', '464', '1458', '3651', '878', '816', '4012', '3062', '2155', '2683', '1930', '36', '1455', '3087', '107', '2305', '3412', '1101', '2327', '1129', '3397', '2699', '2405', '141', '2081', '3612', '330', '568', '1098', '2794', '1980', '3106', '80', '1022', '558', '2266', '2996', '953', '937', '1802', '2467', '2877', '3316', '3727', '3083', '548', '148', '742', '543', '562', '2948', '3090', '1651', '1187', '2943', '1894', '3892', '1586', '2998', '3404', '2963', '283', '2064', '234', '828', '2249', '159', '830'], 7: ['532', '873', '265', '2281', '646', '2605', '771', '1972', '3339', '60', '1939', '417', '767', '3119', '262', '304', '3482', '2214', '2860', '3740', '2382', '1814', '3019', '1399', '168', '2822', '1310', '2688', '1532', '838', '2879', '784', '1684', '3157', '2714', '2347', '379', '2553', '564', '1239', '2873', '3369', '503', '2254', '4102', '2552', '597', '522', '2813', '3970', '3134', '2245', '2514', '359', '2479', '2209', '872', '1842', '831', '3174', '2576', '2772', '200', '438', '4096', '2746', '2851', '3140', '3469', '1038', '4037', '3489', '255', '2505', '1647', '341', '2698', '3648', '2128', '901', '2907', '52', '1079', '2087', '2504', '2463', '1556', '2424', '883', '855', '2636', '225', '3942', '2164', '2260', '368', '1687', '2188', '3033', '1959', '1820', '2057', '336', '888', '1630', '58', '3150', '1757', '705', '1618', '783', '2119', '1560', '3115', '1913', '536', '40', '2700', '1700', '1329', '1434', '2185', '1301', '1593', '1073', '1171', '2173', '3036', '1539', '1005', '3186', '1886', '2603', '1691', '833', '1339', '3004', '3023', '1053', '1238', '1717', '1715', '1680', '2242', '1257', '2059', '1428', '4032', '3476', '2084', '1777', '275', '350', '466', '567', '1903', '571', '2413', '2385', '3384', '580', '2832', '468', '1884', '4187', '1994', '2349', '1636', '1829', '2500', '2326', '31', '1446', '2233', '2166', '2850', '2152', '2136', '2649', '464', '57', '1345', '2923', '1113', '596', '4012', '813', '2683', '2828', '36', '696', '2248', '3605', '3788', '28', '2699', '141', '1040', '2270', '1598', '1569', '3612', '2081', '541', '568', '717', '2826', '2548', '2545', '1297', '638', '937', '790', '1589', '523', '382', '543', '562', '2865', '2943', '283', '1520', '160', '2249', '1841', '2060', '3016', '88', '905'], 8: ['873', '2281', '3385', '1107', '767', '764', '3197', '1939', '1561', '908', '3119', '2536', '262', '1938', '2073', '3615', '835', '1773', '1813', '214', '2114', '1399', '3014', '2822', '994', '2879', '2708', '494', '2118', '1382', '1684', '1003', '2340', '738', '3517', '215', '2312', '169', '2481', '1374', '564', '1239', '87', '1244', '1999', '2237', '2965', '2975', '1194', '2388', '1222', '1591', '3408', '3809', '96', '980', '1357', '1844', '3929', '1824', '2245', '2514', '629', '1108', '666', '1771', '977', '2209', '872', '1387', '831', '1974', '489', '372', '200', '471', '4096', '983', '3140', '2446', '245', '1444', '3366', '2190', '976', '3489', '341', '255', '2505', '2128', '52', '1570', '727', '367', '2988', '931', '1770', '2908', '3040', '2636', '3942', '2164', '542', '368', '77', '2188', '2100', '1557', '2378', '1456', '961', '705', '631', '2732', '1142', '500', '3055', '2176', '622', '1408', '2119', '663', '3113', '536', '1913', '1166', '222', '40', '3136', '53', '335', '1329', '1747', '1055', '635', '2107', '3403', '2089', '482', '1593', '1073', '2173', '1539', '2459', '2602', '985', '1005', '2774', '2622', '3101', '1691', '246', '2468', '1053', '833', '3042', '2414', '1613', '3105', '2267', '2776', '3008', '1257', '105', '2059', '1428', '376', '1777', '637', '3099', '1574', '1010', '186', '1712', '2365', '1376', '2180', '571', '1903', '1283', '1157', '2413', '1138', '2682', '2832', '1983', '1008', '2886', '2302', '2816', '1994', '223', '587', '2349', '1719', '15', '1531', '1446', '2233', '3958', '2741', '725', '2850', '2166', '2639', '2314', '2804', '915', '1984', '1379', '2044', '464', '1195', '723', '1926', '4030', '526', '813', '2289', '2155', '2348', '3168', '36', '967', '378', '2915', '279', '3788', '1411', '2896', '1211', '2952', '141', '514', '4047', '3612', '717', '568', '417', '2826', '399', '2548', '2601', '1555', '71', '1653', '953', '937', '4193', '248', '2720', '3504', '2621', '115', '2452', '1869', '1187', '543', '3109', '35', '2948', '2366', '161', '1866', '1176', '1461', '995', '1702', '3559', '283', '2620', '4036', '2871', '2391', '2643', '2642', '3016', '809', '905'], 9: ['532', '1862', '157', '788', '646', '1358', '3197', '417', '262', '2597', '3659', '1398', '1773', '1081', '994', '3176', '838', '2954', '2879', '3531', '198', '183', '311', '4114', '657', '348', '564', '3445', '2554', '752', '3314', '3369', '2154', '2237', '254', '142', '2950', '2072', '1357', '754', '3970', '912', '69', '2955', '2083', '1270', '2209', '872', '601', '2772', '592', '200', '4096', '41', '404', '569', '2043', '2499', '4037', '3489', '1692', '255', '2505', '341', '2830', '2132', '749', '52', '2141', '1079', '1735', '1084', '2577', '931', '1556', '429', '4052', '2274', '368', '1687', '1779', '2188', '1566', '86', '1580', '888', '1772', '1142', '2379', '1512', '500', '622', '3959', '1742', '3920', '2491', '1913', '40', '721', '1700', '444', '2892', '762', '496', '1329', '1937', '639', '2534', '2173', '1539', '3036', '2595', '1448', '985', '1005', '2567', '2322', '833', '1339', '292', '2890', '4022', '546', '2986', '2715', '2054', '2484', '2103', '3687', '33', '1777', '350', '1010', '186', '1422', '3104', '2250', '1590', '1903', '3782', '2285', '580', '2682', '3093', '530', '1994', '846', '289', '1805', '737', '1446', '2233', '2850', '2639', '2876', '974', '2696', '1943', '209', '1494', '1325', '2155', '813', '27', '850', '36', '967', '3788', '1888', '24', '330', '1781', '2018', '399', '2548', '2601', '1610', '1653', '2120', '488', '3711', '1033', '937', '1818', '4193', '2918', '248', '2506', '1738', '2865', '932', '1461', '828', '2620', '2393', '1278', '1520', '2297', '88', '3235'], 10: ['532', '265', '2847', '646', '3246', '3468', '2784', '1736', '767', '1425', '417', '2334', '3119', '3615', '1954', '2210', '3041', '2268', '1722', '3019', '168', '3014', '2822', '2544', '2074', '2844', '193', '54', '644', '1684', '2533', '3157', '42', '1364', '647', '515', '906', '630', '1695', '401', '1239', '3112', '1244', '2457', '3054', '1230', '3665', '3180', '1289', '2254', '2156', '794', '2829', '1824', '147', '597', '552', '125', '3970', '3208', '1506', '1108', '2306', '2495', '785', '2814', '831', '489', '544', '2372', '2368', '2772', '471', '2851', '3140', '984', '1643', '245', '1045', '3116', '3489', '2698', '3212', '2675', '1675', '407', '2959', '1369', '3046', '1469', '855', '598', '493', '1950', '2636', '1731', '3942', '613', '2260', '2524', '1687', '1338', '1127', '1605', '2057', '961', '888', '705', '1757', '398', '903', '288', '19', '3902', '2709', '185', '145', '536', '3192', '486', '1333', '1132', '867', '1700', '496', '2540', '2107', '3907', '482', '806', '1171', '3036', '2602', '2774', '985', '1443', '3961', '3544', '1788', '246', '1053', '2414', '2766', '1571', '3105', '3668', '3946', '1680', '2469', '2593', '1257', '331', '2059', '1978', '4032', '376', '2165', '2949', '667', '973', '2792', '670', '3880', '1126', '2407', '1728', '4126', '571', '1283', '1941', '2983', '580', '2832', '3260', '223', '299', '1042', '384', '2349', '2690', '2791', '2233', '2166', '595', '2592', '1037', '2876', '1669', '2884', '2381', '1926', '103', '3062', '2125', '2289', '2589', '188', '2155', '3168', '2557', '3175', '9', '378', '930', '2010', '290', '2248', '2319', '623', '1583', '1000', '237', '141', '2081', '1672', '717', '2826', '3714', '1022', '2545', '558', '2383', '1554', '499', '2047', '2085', '2720', '1589', '2849', '2374', '1651', '271', '382', '1187', '1586', '1761', '1894', '911', '2099', '2369', '1363', '2963', '1817', '2871', '1563', '905'], 11: ['511', '1714', '3867', '1489', '1107', '767', '60', '1128', '3565', '2750', '3119', '2597', '2210', '304', '835', '550', '3740', '1722', '1399', '2822', '1310', '2074', '2844', '2708', '238', '1684', '3807', '2836', '3157', '1012', '379', '2553', '653', '1031', '138', '1655', '1239', '1244', '2457', '2645', '309', '2616', '1347', '1389', '1086', '351', '354', '1188', '1240', '794', '2471', '2015', '2618', '2813', '125', '1506', '2495', '2040', '1343', '3191', '3806', '200', '2331', '438', '410', '1595', '3140', '1643', '395', '3092', '2932', '1692', '2756', '2698', '407', '2907', '2232', '2023', '2504', '1355', '598', '1731', '3942', '369', '241', '2971', '1483', '476', '1127', '2900', '1630', '1840', '705', '1142', '313', '1114', '314', '1973', '536', '2700', '1700', '3708', '2862', '496', '3026', '1055', '2226', '3907', '2089', '2796', '2546', '1448', '1804', '1005', '1359', '1152', '2316', '2062', '2603', '1053', '3004', '1134', '133', '1856', '3263', '1717', '1715', '3201', '3008', '1257', '331', '2059', '1978', '3811', '616', '1575', '164', '1451', '1034', '275', '1427', '3703', '186', '2407', '466', '165', '571', '2385', '2832', '468', '2449', '3017', '3260', '1441', '299', '2853', '846', '2168', '11', '1051', '2349', '2690', '2791', '2326', '46', '2592', '167', '3188', '974', '3651', '57', '1850', '1816', '878', '1855', '596', '2125', '916', '1325', '2286', '2589', '188', '36', '3534', '3096', '3155', '107', '290', '2234', '1583', '2358', '1621', '766', '3698', '237', '1016', '758', '717', '3913', '2826', '3714', '2794', '1980', '3106', '2996', '1554', '2266', '2047', '2855', '1033', '68', '937', '3501', '2877', '523', '2419', '4197', '271', '524', '543', '1783', '2117', '1588', '3892', '2963', '1817', '1702', '2181', '695', '905'], 12: ['318', '3867', '646', '736', '1517', '2179', '685', '2093', '3482', '92', '2544', '1611', '863', '2867', '2933', '2171', '238', '494', '198', '1880', '2392', '505', '3396', '2553', '1156', '1659', '1230', '2109', '2457', '3963', '1780', '1993', '2476', '2527', '338', '312', '2552', '3005', '2665', '2783', '3628', '2514', '666', '899', '1205', '3682', '1387', '3138', '1914', '2206', '553', '298', '592', '1595', '1065', '2610', '919', '2698', '479', '2258', '1431', '2232', '3631', '2000', '2023', '883', '1623', '1731', '2971', '2276', '539', '1323', '1127', '1096', '336', '1757', '3150', '288', '817', '2515', '185', '3371', '3649', '2761', '1700', '2416', '864', '627', '1035', '2185', '1495', '1015', '2796', '1678', '3036', '1263', '2161', '430', '56', '1466', '1710', '2801', '1715', '1717', '195', '3132', '2090', '3756', '902', '376', '3391', '2122', '1427', '506', '3211', '1777', '1010', '704', '1760', '3159', '866', '675', '3094', '3964', '1078', '2734', '2821', '3149', '993', '2219', '1404', '322', '587', '441', '3353', '621', '1446', '2921', '3827', '2763', '3815', '576', '3458', '2884', '1872', '1433', '1402', '201', '916', '1032', '2007', '700', '3175', '1776', '526', '2993', '2263', '3039', '460', '1455', '2305', '439', '3855', '279', '2487', '1662', '958', '1453', '2952', '1664', '1', '24', '1569', '2938', '3258', '366', '3106', '2246', '71', '2304', '885', '1877', '3204', '2560', '2918', '2077', '2978', '1187', '562', '1421', '2865', '3455', '1184', '2642', '2297', '1430', '871'], 13: ['265', '2847', '3867', '1358', '1107', '767', '764', '908', '2536', '3119', '304', '92', '550', '1813', '1722', '214', '1814', '3019', '168', '994', '2822', '2867', '2708', '2891', '1684', '738', '1573', '507', '1533', '1374', '2846', '515', '2213', '1655', '1239', '1230', '1244', '2457', '3429', '2975', '2476', '1661', '1599', '3863', '2254', '2072', '4005', '794', '1357', '1265', '1844', '782', '3005', '3306', '1933', '552', '125', '2475', '2300', '1506', '666', '2139', '3686', '3100', '3682', '3806', '1806', '2882', '1756', '200', '3272', '2851', '3140', '1065', '1444', '3489', '2675', '1570', '1735', '2000', '2023', '855', '1355', '1770', '1950', '3040', '3942', '369', '2260', '1269', '961', '2057', '705', '631', '1757', '1142', '288', '1360', '2310', '2176', '313', '314', '492', '536', '335', '1035', '3907', '1629', '2796', '806', '3036', '1171', '2459', '2174', '2602', '2622', '1302', '3961', '269', '2062', '1053', '1667', '1856', '2296', '966', '1680', '4163', '3008', '334', '1257', '2059', '4032', '973', '1451', '2949', '637', '1427', '506', '670', '1574', '3172', '1777', '2407', '2365', '2705', '866', '571', '2531', '2385', '2832', '2816', '2853', '1042', '299', '2045', '322', '587', '2168', '2349', '2810', '798', '2233', '3958', '2741', '263', '2166', '2592', '4064', '2314', '584', '2152', '2884', '1457', '2381', '2571', '1484', '1854', '916', '2289', '188', '776', '3168', '9', '378', '460', '158', '290', '623', '439', '2248', '2779', '1583', '549', '1193', '514', '2081', '1672', '717', '229', '2826', '2383', '1890', '2545', '499', '1877', '3233', '3504', '2621', '1589', '1869', '271', '382', '35', '1761', '1783', '2192', '3227', '1176', '2391', '234', '3016', '905'], 14: ['1991', '2605', '820', '1107', '2521', '767', '764', '1561', '3119', '886', '304', '835', '2860', '1813', '2382', '214', '1271', '550', '2158', '2822', '994', '1532', '343', '3604', '306', '54', '1382', '62', '1684', '738', '1250', '169', '1413', '2553', '2619', '1659', '401', '1239', '1655', '84', '1093', '2237', '2486', '2950', '3408', '310', '96', '980', '2156', '1018', '1357', '147', '597', '2042', '522', '892', '2618', '125', '912', '1470', '2139', '977', '2479', '1387', '3174', '3011', '3806', '1902', '2772', '553', '298', '200', '3140', '1065', '1444', '1045', '2343', '2265', '3489', '2505', '3648', '52', '1079', '2000', '1770', '446', '3942', '2971', '369', '2274', '2529', '2787', '1219', '2418', '1456', '961', '705', '1772', '1142', '903', '2176', '313', '1618', '783', '2709', '1560', '451', '314', '536', '300', '335', '3026', '4028', '4057', '1434', '355', '2753', '3722', '269', '2622', '2322', '2523', '1053', '1339', '3118', '276', '833', '2011', '1856', '3105', '195', '130', '3946', '3281', '1680', '1508', '2242', '3008', '2090', '1257', '105', '2059', '376', '1451', '3099', '1574', '1760', '2407', '2341', '2365', '1376', '571', '3094', '2385', '2983', '2734', '2832', '2259', '4187', '2816', '2853', '299', '226', '441', '1051', '2168', '43', '690', '2791', '231', '2233', '3958', '1845', '2627', '110', '46', '2152', '765', '3051', '464', '57', '1345', '2923', '1872', '816', '4012', '700', '2683', '3938', '3976', '3397', '766', '2952', '2699', '1040', '514', '1016', '24', '717', '541', '3258', '2826', '2601', '2609', '2584', '2266', '823', '953', '3336', '2621', '728', '148', '3109', '2466', '2948', '35', '3090', '1783', '2369', '2943', '3892', '161', '828', '2963', '1885', '2060', '253', '3016', '48', '1563', '905'], 15: ['2488', '2494', '1358', '2354', '1602', '648', '771', '1972', '3339', '60', '1561', '854', '764', '2273', '262', '413', '608', '1423', '92', '1846', '3740', '1814', '1081', '1310', '2688', '2867', '2825', '1382', '1684', '2658', '588', '1533', '1250', '2261', '2347', '409', '1352', '401', '1230', '1244', '2781', '3647', '2462', '2476', '1086', '1599', '2486', '236', '503', '3408', '2856', '2395', '96', '980', '2435', '2156', '2869', '782', '3005', '3114', '2813', '1137', '2514', '666', '359', '785', '977', '3075', '3686', '3283', '3682', '1842', '1387', '372', '1756', '1595', '438', '984', '2746', '1065', '2668', '1045', '2190', '3489', '1647', '1500', '2698', '2907', '1645', '986', '1735', '2087', '2504', '2463', '2000', '2912', '1119', '2636', '1688', '2291', '2520', '1269', '2378', '2660', '2928', '1820', '1456', '1630', '2716', '903', '1142', '2709', '861', '1808', '2700', '2416', '18', '1035', '342', '2753', '1015', '2534', '2796', '3036', '2174', '1005', '3186', '269', '2637', '3097', '2603', '822', '246', '2808', '3004', '1613', '135', '2875', '611', '3034', '2296', '3105', '1717', '1715', '3946', '3281', '151', '3194', '475', '414', '105', '1428', '376', '3172', '275', '1427', '506', '466', '1376', '121', '2284', '4019', '580', '468', '2886', '322', '587', '2791', '2500', '1986', '2326', '2233', '2317', '1412', '1942', '2136', '3224', '2044', '57', '2571', '118', '579', '2458', '596', '1854', '3282', '776', '2828', '3087', '3155', '158', '460', '439', '2496', '1827', '28', '2952', '380', '2017', '1598', '1337', '1811', '1555', '1877', '953', '3630', '1232', '790', '3894', '523', '3931', '3405', '148', '742', '3109', '3305', '161', '1176', '234', '4036', '959', '3990', '2205', '1563'], 16: ['3739', '2488', '532', '2847', '2198', '2605', '2521', '1616', '1561', '886', '262', '2498', '1125', '3041', '2145', '413', '1861', '1722', '2857', '168', '1081', '2954', '838', '1382', '647', '2261', '1798', '515', '409', '1659', '564', '3497', '1230', '4079', '1244', '2457', '1155', '1029', '1507', '1577', '3369', '2154', '1086', '3408', '2856', '2072', '96', '2598', '980', '794', '2435', '1824', '1018', '2585', '3114', '552', '125', '1137', '1506', '977', '2209', '2814', '872', '3283', '1842', '1387', '3138', '3011', '489', '553', '298', '1361', '1595', '2556', '268', '4037', '3116', '2932', '3489', '341', '1154', '1500', '880', '407', '324', '1556', '855', '1950', '2636', '734', '2971', '368', '1219', '1605', '1281', '1456', '2716', '1142', '3055', '3902', '1965', '185', '2264', '3192', '18', '792', '1035', '4028', '3907', '2753', '2182', '2534', '3036', '1539', '1005', '97', '1165', '1443', '3961', '1788', '822', '246', '833', '1339', '801', '3034', '3105', '414', '1034', '105', '973', '216', '2165', '2949', '1777', '670', '350', '2407', '1728', '1760', '3832', '1376', '1903', '3094', '4019', '580', '2734', '1247', '2146', '1042', '299', '846', '226', '441', '909', '534', '2233', '2317', '2587', '2648', '2850', '1412', '2592', '765', '1037', '2884', '2381', '103', '579', '1816', '118', '700', '776', '188', '36', '9', '2010', '3155', '290', '279', '623', '3788', '1583', '28', '2952', '24', '3552', '2017', '1672', '2243', '956', '3258', '2889', '1918', '2548', '4107', '2095', '1811', '2383', '787', '499', '823', '1092', '953', '3894', '271', '3109', '2865', '1761', '2369', '161', '2963', '1327', '1309', '959', '88', '3792', '2953'], 17: ['2847', '2655', '1019', '764', '908', '2298', '2536', '662', '2597', '2474', '92', '1245', '3989', '2867', '443', '2708', '2444', '2573', '85', '657', '507', '215', '1374', '515', '1230', '2457', '207', '1002', '2975', '2476', '1661', '361', '442', '2387', '2856', '2072', '2435', '1844', '1223', '3005', '1567', '552', '2514', '3682', '945', '759', '83', '1806', '2772', '983', '395', '1065', '3489', '1500', '479', '2907', '3618', '2000', '855', '2754', '2912', '1950', '3040', '1355', '4034', '613', '1701', '3608', '2127', '2755', '288', '2379', '492', '300', '3165', '3708', '1279', '1035', '2753', '2575', '1629', '2796', '806', '3036', '2459', '2602', '2295', '485', '1886', '3961', '1359', '1302', '2316', '2062', '2279', '292', '1667', '3091', '1634', '2144', '3851', '2469', '4163', '1900', '1367', '2059', '616', '973', '773', '2949', '637', '1427', '506', '670', '458', '1172', '165', '3104', '859', '3535', '4019', '580', '2112', '3260', '1042', '1441', '299', '322', '587', '303', '2349', '2967', '3849', '231', '2233', '2741', '251', '725', '1412', '4064', '2809', '2314', '3050', '3815', '2009', '2876', '2315', '2884', '57', '2381', '1308', '1325', '916', '862', '188', '9', '378', '688', '2915', '623', '3032', '460', '2358', '549', '1193', '514', '1016', '1', '758', '1672', '1122', '2101', '2383', '1890', '1811', '642', '1648', '3387', '499', '71', '1971', '1877', '3504', '81', '2419', '3931', '1638', '2034', '1869', '2032', '382', '1761', '2391', '1581', '3597', '2643', '1430', '400', '1641', '709'], 18: ['3739', '2488', '265', '2494', '3867', '2198', '648', '1489', '771', '764', '3339', '1128', '1972', '262', '1125', '413', '608', '1814', '3019', '168', '1081', '2688', '2954', '2477', '2879', '306', '1250', '2347', '409', '2924', '401', '1244', '2645', '1507', '3647', '752', '3314', '1347', '2799', '1086', '351', '2254', '2598', '1240', '3114', '2618', '125', '754', '2955', '3208', '359', '785', '1842', '3138', '601', '1203', '1361', '200', '1595', '4096', '2851', '1045', '4037', '1154', '3489', '255', '1647', '2830', '407', '52', '2000', '2087', '2463', '324', '2912', '2023', '1119', '2636', '734', '2260', '2188', '86', '2378', '1820', '2057', '1757', '2716', '903', '2709', '2119', '861', '1913', '3192', '2264', '40', '2416', '18', '792', '2480', '1329', '1015', '2534', '2173', '1171', '3036', '3186', '1152', '822', '2523', '2322', '1339', '611', '3034', '3946', '1680', '475', '1034', '616', '4032', '376', '2165', '186', '121', '3094', '1283', '2983', '2385', '468', '2053', '2146', '3260', '1441', '1994', '1042', '2349', '43', '690', '2791', '2500', '1446', '2233', '2166', '2902', '2627', '1412', '1942', '974', '3051', '1511', '3651', '579', '1816', '878', '1317', '813', '776', '2828', '3427', '3175', '3087', '3155', '158', '2248', '2496', '1827', '28', '3397', '2081', '2017', '1598', '2243', '2794', '1980', '4107', '3106', '1337', '2545', '2266', '2120', '3711', '953', '937', '790', '3894', '1589', '2877', '3931', '148', '382', '742', '2563', '2948', '3305', '2943', '2963', '1327', '1309', '959', '1563', '2953'], 19: ['532', '265', '3246', '1547', '1107', '1425', '764', '2334', '3137', '3615', '1954', '3041', '67', '304', '835', '2268', '2113', '1141', '2860', '1813', '2078', '214', '550', '3019', '168', '3014', '2544', '994', '293', '1611', '874', '2867', '54', '494', '2999', '2891', '1880', '1003', '738', '42', '3157', '1364', '647', '1185', '2456', '2481', '2553', '906', '1659', '1695', '1230', '2109', '1655', '1244', '3054', '294', '2237', '1993', '3390', '312', '1289', '1591', '2254', '4088', '2230', '2723', '755', '1357', '1824', '147', '597', '522', '3628', '1506', '1108', '2479', '2814', '3174', '831', '489', '2290', '3806', '544', '2368', '2372', '2772', '3641', '298', '471', '553', '2851', '1595', '984', '200', '2556', '1291', '1444', '3366', '3116', '919', '3648', '3212', '2959', '2675', '1675', '52', '1570', '1079', '3046', '1469', '1770', '493', '2908', '2636', '791', '2971', '369', '2260', '2591', '2100', '152', '2057', '961', '1757', '1153', '288', '398', '1142', '3902', '2176', '313', '1618', '783', '185', '1560', '314', '3192', '1166', '486', '1333', '1132', '335', '474', '867', '2107', '806', '1171', '2944', '2602', '2774', '3101', '2622', '1443', '3544', '1788', '246', '2414', '1339', '430', '2766', '1465', '1571', '1466', '1856', '1680', '954', '2469', '2242', '3008', '2593', '1919', '4032', '376', '1451', '667', '3880', '1574', '2542', '2247', '1760', '1728', '2365', '675', '3094', '1186', '1941', '2385', '2734', '2788', '2112', '2886', '2816', '2853', '223', '441', '384', '2168', '2349', '1719', '4202', '2921', '3958', '2166', '2850', '2070', '3760', '2152', '1037', '2876', '464', '723', '1345', '1926', '103', '2121', '4012', '3062', '1032', '2289', '2683', '2155', '700', '3168', '1776', '2922', '378', '930', '2010', '460', '2248', '2319', '2327', '1583', '2952', '2699', '141', '514', '24', '2081', '2080', '2938', '568', '3258', '1022', '2545', '558', '80', '950', '2095', '2720', '1589', '2621', '2849', '2374', '1651', '382', '1187', '1586', '35', '726', '1783', '1894', '911', '2369', '1184', '2963', '2759', '2871', '2181', '3759', '2060', '3016', '48', '871'], 20: ['1991', '318', '532', '3385', '820', '1107', '2273', '764', '2179', '1938', '2769', '2210', '304', '835', '2113', '2860', '1813', '550', '214', '2382', '1836', '1081', '994', '293', '2074', '874', '2844', '2867', '343', '1532', '3604', '2477', '838', '2891', '2118', '62', '1880', '738', '42', '2672', '3396', '1185', '1413', '2553', '2924', '1655', '1999', '84', '2881', '2237', '3369', '2965', '2799', '2527', '312', '2388', '2950', '310', '2230', '1018', '1357', '147', '597', '892', '522', '1470', '3208', '629', '2139', '2353', '2495', '1270', '2479', '3329', '3174', '1974', '489', '2290', '3806', '3138', '1203', '2772', '3641', '200', '1642', '1643', '2499', '1444', '2343', '2505', '3648', '14', '407', '2258', '52', '1084', '1079', '324', '1556', '598', '1770', '429', '1731', '3780', '4052', '2274', '369', '2276', '539', '86', '1127', '961', '1153', '1772', '1142', '2379', '1512', '313', '1408', '1618', '783', '2176', '1560', '451', '314', '2119', '300', '335', '474', '867', '2416', '2480', '762', '496', '1329', '1937', '1434', '1752', '2089', '363', '3036', '1005', '2404', '1165', '2901', '2622', '1146', '833', '1339', '3042', '1465', '1856', '1710', '546', '195', '130', '1680', '1508', '2242', '3008', '1919', '331', '1978', '2630', '1451', '1777', '3099', '1574', '350', '1760', '2341', '2365', '2250', '1283', '1157', '2385', '2285', '2112', '2259', '2053', '4187', '993', '2816', '2853', '299', '1051', '2168', '43', '2690', '3958', '2902', '725', '110', '1412', '2152', '1511', '576', '464', '2884', '57', '1345', '2923', '1943', '1872', '816', '4012', '1402', '1433', '1317', '2683', '2589', '3175', '3427', '3976', '2263', '439', '766', '237', '2699', '1888', '1040', '514', '24', '541', '3714', '366', '80', '1554', '2584', '2047', '885', '1818', '3336', '2621', '2563', '35', '3090', '1783', '2865', '2369', '2137', '3718', '828', '1817', '3828', '2759', '2060', '253', '3016', '48', '88'], 21: ['532', '1233', '3246', '1107', '767', '1425', '3341', '764', '60', '3119', '2298', '662', '2597', '998', '304', '2474', '2268', '2860', '3740', '2429', '550', '214', '1813', '1722', '2822', '994', '1310', '54', '75', '1684', '738', '42', '470', '1364', '2553', '1655', '1239', '1244', '2457', '3445', '730', '1289', '686', '2856', '96', '624', '2435', '3173', '1357', '147', '794', '522', '2813', '125', '1506', '2479', '831', '3174', '544', '3806', '2368', '1097', '2772', '3198', '200', '438', '3140', '1444', '3489', '2880', '341', '1500', '2698', '3648', '2673', '2004', '52', '2907', '1050', '2478', '1079', '324', '2504', '1770', '493', '1119', '3942', '369', '1319', '1200', '2541', '961', '705', '1630', '1142', '313', '2176', '1618', '185', '783', '314', '3115', '536', '486', '1333', '335', '2700', '2572', '1035', '3907', '482', '2753', '806', '392', '2602', '1005', '2622', '2603', '2322', '1053', '1339', '3004', '2412', '1856', '1717', '1715', '2469', '2242', '3008', '2054', '3052', '1257', '2059', '4144', '1451', '275', '3880', '2543', '1574', '2407', '466', '2365', '2837', '3094', '571', '1903', '2385', '4019', '580', '3889', '2832', '2816', '2853', '299', '384', '2168', '3849', '2326', '2960', '2233', '3958', '1412', '2592', '2152', '815', '2238', '2876', '464', '57', '2381', '1345', '103', '1494', '596', '4012', '3062', '1699', '2683', '188', '2272', '290', '1583', '2699', '141', '514', '3552', '2824', '717', '2826', '2889', '1022', '558', '1811', '2728', '488', '1628', '2652', '4117', '2621', '523', '1651', '1187', '271', '1586', '227', '1783', '35', '1894', '2604', '2868', '3965', '2060', '3016', '4061', '905'], 22: ['1233', '646', '1358', '820', '648', '1736', '771', '2220', '3339', '1972', '417', '2334', '262', '998', '2474', '608', '2429', '1813', '2860', '1722', '1814', '2688', '306', '2708', '75', '2533', '3157', '1364', '1250', '1533', '2347', '379', '1413', '2553', '630', '1695', '1244', '2457', '2873', '309', '84', '3445', '1086', '1599', '686', '2856', '624', '1018', '2435', '794', '147', '782', '2471', '522', '2618', '125', '3970', '1470', '1506', '359', '666', '2040', '2479', '3686', '3174', '1227', '2372', '489', '1097', '3198', '2772', '1756', '3469', '245', '2880', '341', '3489', '1647', '1500', '2698', '3648', '3212', '2675', '1675', '2673', '52', '2478', '1079', '2000', '2087', '2463', '1735', '3046', '1119', '2524', '1687', '3590', '3033', '2378', '1269', '1820', '961', '2900', '888', '398', '19', '1618', '783', '861', '1973', '1132', '1700', '867', '2480', '2862', '2572', '1055', '1434', '3907', '2753', '1606', '1015', '3036', '2174', '1448', '985', '3186', '947', '2322', '2523', '1339', '611', '2766', '1571', '2296', '130', '1508', '2242', '2054', '3172', '3099', '1760', '2407', '4126', '121', '2385', '4019', '580', '2983', '2259', '468', '1716', '3017', '299', '43', '1829', '690', '2500', '2233', '2627', '1412', '2592', '2223', '2152', '3051', '464', '57', '2381', '1345', '2571', '1816', '1872', '1854', '4012', '2683', '965', '2828', '188', '776', '36', '378', '930', '158', '290', '439', '2496', '1827', '1583', '28', '3397', '2699', '1569', '1598', '3364', '1337', '1811', '2584', '2266', '2120', '2728', '2855', '2085', '488', '3501', '790', '3336', '4117', '2877', '2506', '148', '524', '271', '543', '2948', '3305', '911', '2604', '2369', '2943', '2963', '1702', '234', '2060', '253', '48', '4061'], 23: ['532', '265', '157', '646', '2605', '2784', '1425', '417', '2351', '1922', '262', '3615', '2328', '3659', '2268', '2113', '2860', '3019', '168', '3014', '293', '874', '2867', '193', '784', '2891', '1880', '183', '657', '42', '3593', '1185', '2553', '564', '401', '1244', '1780', '2154', '312', '1289', '3111', '2254', '2230', '2713', '4102', '624', '2665', '522', '3835', '2306', '1108', '2479', '2209', '872', '3174', '831', '1768', '2290', '1121', '2368', '2748', '1806', '2772', '3641', '592', '471', '2851', '41', '1038', '1045', '4037', '3489', '341', '3648', '901', '32', '2128', '2258', '52', '594', '1079', '3631', '931', '493', '2582', '225', '613', '2260', '368', '3735', '2321', '1200', '2057', '1757', '1153', '1522', '1142', '903', '817', '1618', '783', '185', '1560', '2709', '486', '4124', '474', '496', '2107', '482', '363', '1171', '1539', '1723', '3323', '2595', '2774', '2161', '1886', '246', '833', '1339', '2414', '2973', '1666', '1465', '3668', '1715', '3946', '1680', '2469', '2242', '1919', '2484', '1428', '2103', '4032', '376', '3880', '4165', '567', '3104', '1728', '1515', '1590', '1903', '1283', '2385', '2112', '3093', '2832', '223', '384', '2349', '2791', '31', '2537', '2233', '2166', '2850', '2136', '2152', '464', '2148', '1345', '273', '1926', '209', '1855', '1494', '4012', '3062', '2125', '2289', '2683', '2155', '3175', '3168', '36', '609', '3039', '2779', '2248', '3788', '1000', '1211', '2699', '2270', '2081', '724', '437', '1022', '2548', '1297', '558', '2545', '610', '2304', '2918', '2720', '1589', '1651', '1187', '382', '1586', '1894', '2759', '2871', '2249', '2060', '3153', '1563'], 24: ['3716', '2773', '3', '2494', '3385', '1190', '1736', '417', '2298', '44', '662', '1938', '3466', '2269', '2474', '3837', '2429', '1081', '2118', '2891', '2573', '3230', '198', '470', '402', '2312', '409', '1659', '1925', '1529', '3497', '401', '1155', '1999', '730', '3647', '3627', '1577', '2462', '2965', '1194', '2388', '2950', '361', '2713', '624', '3173', '1824', '1137', '3835', '629', '785', '1270', '1974', '1467', '489', '1768', '1121', '3198', '268', '2499', '1045', '2735', '3129', '2190', '2932', '3489', '2505', '2583', '880', '901', '1082', '2561', '1084', '594', '2530', '2988', '727', '2912', '429', '2636', '4052', '655', '86', '1557', '1160', '1835', '1757', '1153', '2755', '2379', '1512', '903', '2716', '1408', '2709', '1742', '243', '1392', '2050', '2416', '2700', '1259', '762', '1937', '342', '943', '2089', '363', '392', '1005', '97', '373', '3042', '546', '1795', '2725', '3946', '2267', '954', '475', '1919', '180', '902', '376', '973', '3099', '1728', '2250', '420', '2180', '1903', '2285', '1157', '3889', '448', '1008', '2219', '1181', '846', '3353', '1531', '2791', '1362', '3849', '2537', '2905', '2233', '2166', '1242', '725', '432', '1942', '1984', '1458', '2876', '1669', '1274', '1195', '538', '974', '4030', '3277', '1943', '2397', '916', '526', '606', '1930', '1100', '1455', '3087', '2779', '279', '3412', '1101', '2934', '2327', '1664', '1888', '24', '2081', '724', '2824', '568', '2996', '2601', '972', '823', '953', '1818', '4117', '2467', '3727', '148', '1187', '742', '1170', '2998', '2366', '1176', '1184', '995', '2297', '1563'], 25: ['532', '736', '2001', '1107', '771', '1972', '3339', '60', '1425', '44', '2240', '262', '3137', '1954', '2269', '67', '413', '835', '2268', '2078', '3740', '1814', '2544', '2688', '1310', '2954', '2999', '2573', '3807', '42', '540', '537', '2347', '379', '348', '906', '882', '401', '2031', '2873', '3054', '3445', '1389', '1289', '2856', '2156', '2435', '1824', '597', '2813', '454', '1506', '359', '2495', '3191', '372', '831', '2368', '1625', '438', '984', '3469', '1291', '665', '1045', '2190', '3489', '98', '2583', '1647', '1500', '2698', '2959', '2907', '2087', '2463', '2504', '1469', '493', '2636', '152', '3033', '1160', '1820', '763', '1630', '288', '903', '529', '136', '2709', '185', '3192', '486', '243', '935', '2700', '335', '1259', '3026', '1035', '2753', '943', '3186', '1005', '3544', '1927', '2603', '2322', '3004', '1613', '1717', '1715', '3946', '2469', '2593', '2054', '858', '1428', '376', '1934', '667', '275', '3880', '497', '1712', '466', '420', '675', '3782', '1704', '1941', '2788', '4019', '580', '468', '1473', '2886', '384', '3799', '1829', '2500', '2791', '1362', '2326', '2233', '46', '1412', '432', '1984', '490', '2044', '1608', '57', '1482', '103', '596', '13', '3062', '2029', '2828', '1930', '3719', '3155', '460', '2319', '1101', '2327', '101', '28', '1621', '2253', '2952', '4188', '614', '1569', '3552', '1598', '2081', '2889', '2996', '1022', '558', '1811', '1555', '2609', '80', '488', '790', '2720', '2467', '523', '3727', '2374', '2849', '1651', '1187', '1586', '2998', '1894', '3892', '876', '1184', '2963', '4036', '2643', '3759', '695', '4145', '1563'], 26: ['318', '532', '1862', '1383', '788', '646', '2605', '4', '1489', '417', '60', '1128', '2179', '2597', '1398', '92', '2394', '3740', '793', '1310', '1532', '2954', '838', '2867', '784', '183', '470', '1364', '3069', '3396', '379', '515', '348', '1230', '2873', '2645', '730', '2554', '1347', '3369', '2476', '2527', '1086', '351', '4102', '1240', '624', '3005', '2665', '2813', '3970', '3682', '3138', '917', '2772', '1095', '438', '3140', '1065', '3469', '1800', '404', '1038', '1444', '808', '2698', '901', '749', '479', '2258', '2907', '124', '2141', '3499', '2504', '855', '1556', '2000', '2030', '4034', '225', '1319', '1687', '2276', '539', '3033', '375', '888', '1630', '1840', '1772', '492', '300', '1406', '2700', '1700', '2416', '2862', '1279', '2226', '1035', '2185', '2796', '3036', '3323', '392', '1005', '2637', '1886', '1152', '2603', '292', '3004', '1710', '4022', '1717', '1715', '3105', '2469', '2484', '2635', '1428', '893', '616', '1777', '275', '3431', '4038', '1427', '350', '1422', '186', '466', '567', '506', '1298', '1940', '2284', '3782', '1903', '580', '1138', '3889', '468', '993', '530', '1441', '846', '3842', '587', '322', '1829', '1541', '2791', '31', '2537', '2326', '2960', '191', '725', '2136', '815', '3815', '2538', '3050', '974', '576', '1274', '2315', '2884', '3651', '57', '654', '878', '1872', '596', '1433', '1402', '1325', '2263', '460', '2305', '107', '439', '1129', '1000', '1987', '3872', '2405', '1', '2270', '1569', '2824', '366', '2794', '1980', '1297', '3106', '1641', '885', '1033', '1877', '937', '2652', '2877', '523', '548', '2032', '742', '35', '2865', '3965', '2393', '1520', '2297', '2249', '88'], 27: ['2488', '873', '265', '2281', '1358', '3385', '2605', '2521', '2273', '767', '1939', '3119', '2750', '262', '1938', '44', '2269', '304', '1722', '3019', '168', '1399', '2822', '735', '306', '238', '2118', '1684', '2573', '3157', '42', '1533', '2672', '379', '138', '564', '1239', '284', '1244', '2457', '2873', '1999', '2881', '2965', '1599', '2388', '2950', '2254', '1188', '2156', '794', '782', '2042', '2618', '125', '912', '2245', '2514', '1506', '666', '629', '240', '2209', '3686', '872', '372', '831', '1974', '3011', '489', '1756', '2851', '3140', '1642', '1065', '3469', '1444', '2190', '341', '2505', '2756', '2583', '1177', '2128', '14', '1735', '2000', '1949', '1528', '3490', '446', '2636', '3942', '3780', '2164', '2971', '368', '2260', '3033', '1269', '1160', '1219', '2418', '1959', '2057', '705', '58', '3150', '1757', '313', '1408', '2119', '536', '243', '2700', '120', '1259', '2226', '4028', '355', '3907', '2089', '2753', '1593', '1073', '1301', '1752', '1539', '2796', '2174', '1171', '1005', '2404', '1165', '2901', '269', '1146', '1691', '2322', '2523', '833', '1613', '3042', '3118', '276', '1053', '1238', '2296', '3281', '2588', '1680', '1257', '2059', '1428', '4032', '3172', '275', '2407', '943', '420', '2837', '1903', '571', '2413', '2983', '1157', '2832', '2449', '1268', '2886', '299', '226', '2349', '43', '1829', '690', '1362', '231', '1845', '2166', '2627', '2850', '725', '2592', '432', '765', '1984', '3051', '2044', '2571', '1855', '1854', '2286', '188', '776', '3938', '36', '1930', '2356', '3096', '9', '290', '439', '3605', '689', '3788', '1583', '1101', '2327', '3397', '3347', '2952', '766', '3156', '141', '1016', '1569', '2081', '2248', '3612', '717', '568', '2826', '2794', '2548', '2996', '2545', '80', '1555', '2601', '2266', '823', '638', '2467', '1589', '3727', '148', '4197', '271', '382', '543', '2948', '2466', '2998', '2943', '2137', '2963', '283', '234', '4036', '3828', '2181', '905', '2438'], 28: ['157', '3867', '3440', '1736', '1107', '2273', '3197', '2179', '3466', '2210', '2474', '304', '3659', '1173', '1773', '2860', '2429', '2382', '550', '2074', '2844', '1532', '2444', '183', '440', '657', '2533', '2672', '348', '2553', '409', '1352', '630', '3497', '1655', '1155', '1577', '2154', '2156', '624', '3173', '597', '522', '1137', '2495', '2479', '3174', '3806', '1806', '2772', '3198', '592', '200', '1643', '268', '41', '245', '1444', '2932', '2265', '2505', '880', '2698', '3648', '3895', '407', '2907', '52', '1079', '2023', '598', '931', '1731', '3780', '369', '2524', '3590', '1127', '2447', '961', '2755', '1142', '19', '500', '963', '313', '622', '1618', '783', '314', '1560', '496', '1434', '3036', '2595', '985', '97', '1165', '2901', '269', '1146', '2316', '292', '1339', '1856', '1189', '3281', '2776', '2242', '3008', '331', '2484', '1978', '2103', '1451', '1010', '186', '3104', '4126', '1590', '3782', '1186', '2385', '2983', '2682', '3093', '4187', '3260', '846', '2853', '2168', '2690', '2967', '46', '2639', '2152', '464', '1345', '2923', '209', '1494', '4012', '2683', '2589', '967', '279', '958', '237', '2699', '1040', '541', '3714', '399', '80', '2601', '1554', '3387', '2047', '1971', '1653', '2085', '3145', '4193', '2918', '248', '4117', '382', '1783', '1461', '2620', '1817', '2643', '2060', '3016'], 29: ['2488', '532', '2001', '820', '1107', '1736', '2273', '60', '1425', '764', '2750', '2240', '896', '413', '2268', '2113', '2860', '3740', '1813', '214', '1081', '994', '293', '1310', '874', '2867', '2999', '238', '2891', '1880', '3230', '2533', '4114', '3517', '42', '738', '402', '2672', '1185', '138', '1413', '2553', '409', '882', '630', '1244', '84', '1389', '1086', '312', '142', '1289', '310', '2230', '1295', '1188', '2156', '274', '1018', '2869', '1357', '147', '3114', '522', '2813', '2618', '912', '1470', '454', '1108', '2479', '1842', '759', '3174', '831', '2290', '2368', '2772', '3641', '1595', '983', '438', '984', '245', '1444', '569', '2043', '3129', '976', '3489', '2756', '2698', '3648', '2907', '52', '1082', '2141', '1079', '1735', '2504', '2577', '1770', '883', '493', '2636', '2971', '3780', '2524', '961', '888', '1630', '1153', '2716', '19', '529', '313', '2176', '1618', '783', '185', '1560', '2491', '222', '486', '935', '2700', '474', '18', '335', '496', '1329', '2226', '635', '1434', '2534', '2796', '3036', '985', '1005', '1165', '2901', '2622', '1146', '373', '1315', '2603', '822', '3158', '1339', '3004', '2793', '3034', '1465', '2801', '1795', '2725', '130', '2380', '1717', '1715', '20', '2469', '1508', '2242', '1919', '1934', '33', '275', '3099', '667', '3880', '1514', '1712', '497', '1760', '466', '1596', '4126', '1574', '2365', '1704', '1157', '386', '1138', '2983', '2112', '2259', '2385', '1473', '2449', '2302', '2816', '1181', '299', '587', '384', '2326', '737', '2233', '3958', '1379', '2152', '3389', '490', '464', '1608', '2696', '57', '1345', '1482', '579', '1872', '596', '1855', '4012', '3062', '2286', '2683', '3719', '36', '3096', '3155', '279', '1411', '101', '1211', '2253', '766', '2699', '514', '2017', '1598', '2889', '1098', '1022', '558', '80', '1610', '2584', '2085', '3894', '3336', '2720', '2621', '523', '3316', '3654', '3083', '4197', '1651', '1187', '1586', '1738', '35', '3016', '1894', '2369', '876', '1702', '2759', '1278', '2643', '2181', '2060', '959', '253', '4145', '159', '48', '1063'], 30: ['532', '2847', '646', '1517', '1107', '764', '417', '60', '2298', '662', '2498', '304', '2432', '2860', '3740', '469', '214', '1813', '550', '197', '1399', '994', '2544', '1310', '838', '306', '2171', '2999', '1332', '2708', '62', '2573', '738', '505', '515', '2553', '379', '409', '3497', '401', '1655', '1155', '309', '1577', '3369', '1086', '310', '2471', '1357', '2618', '522', '892', '3970', '125', '552', '1137', '2813', '1108', '2040', '2479', '759', '3174', '1387', '372', '3806', '2772', '200', '438', '3140', '3152', '268', '1444', '2208', '2190', '2932', '3489', '880', '2698', '3648', '2907', '52', '1079', '2000', '2504', '855', '1556', '1770', '1950', '369', '1687', '2360', '2900', '961', '888', '1630', '1153', '1142', '2176', '313', '1618', '783', '314', '1973', '451', '300', '1700', '335', '2700', '2862', '1329', '3026', '1055', '342', '3036', '1448', '1005', '97', '2622', '3961', '2603', '2322', '2523', '1339', '3004', '2793', '1613', '1856', '1717', '1715', '2242', '3008', '29', '1428', '973', '1451', '2949', '667', '275', '1777', '670', '1574', '350', '1596', '466', '2365', '675', '3964', '2385', '2983', '580', '1989', '3017', '2886', '2816', '2853', '1042', '846', '1051', '2168', '43', '690', '3849', '2326', '2233', '3958', '2627', '46', '110', '2152', '3389', '2009', '3051', '2044', '464', '2696', '2884', '57', '1345', '2381', '1816', '596', '201', '4012', '1032', '2683', '188', '36', '3976', '9', '1455', '107', '623', '279', '3397', '766', '2952', '2699', '514', '1672', '2938', '1098', '2383', '1555', '2266', '499', '4195', '2855', '3501', '1802', '2918', '2621', '523', '3083', '148', '2877', '524', '2978', '543', '2948', '1761', '35', '2865', '1783', '2943', '3892', '3404', '2963', '2642', '2064', '234', '4036', '2352', '1702', '2249', '2060', '159', '3016', '88', '830'], 31: ['318', '2281', '2847', '646', '2605', '820', '1358', '1489', '2521', '2220', '417', '764', '1128', '2179', '2240', '896', '1813', '62', '3230', '311', '390', '402', '1533', '3396', '515', '1413', '882', '1992', '2645', '84', '1347', '1389', '2527', '1086', '1599', '351', '310', '1295', '2156', '1240', '1018', '3173', '2869', '147', '782', '892', '552', '3970', '1470', '454', '666', '3854', '3686', '3138', '3011', '1227', '2772', '1756', '3129', '3489', '1692', '3648', '2258', '1082', '1735', '324', '855', '2912', '883', '1950', '1687', '2276', '539', '1269', '1219', '1200', '888', '529', '3959', '451', '3115', '1258', '300', '1700', '2416', '2480', '496', '4028', '1434', '639', '1606', '2174', '269', '3961', '947', '373', '1152', '1229', '1339', '2412', '1710', '2296', '2801', '1795', '2725', '3281', '130', '2380', '20', '1508', '3052', '4144', '616', '973', '3172', '2949', '3099', '670', '2543', '1514', '1712', '497', '1760', '186', '2837', '3094', '1704', '386', '580', '2259', '468', '993', '1716', '1181', '1441', '299', '1042', '226', '1051', '2791', '2233', '1379', '2223', '2152', '765', '3815', '2238', '490', '974', '576', '2884', '3651', '1345', '57', '2571', '2381', '878', '1872', '1494', '1433', '1402', '1854', '1699', '776', '965', '850', '36', '188', '3976', '9', '2263', '2272', '439', '623', '101', '766', '1', '1598', '1672', '3364', '2243', '1781', '2889', '366', '2794', '1980', '3106', '2383', '2584', '499', '823', '885', '2120', '937', '3336', '143', '2877', '3931', '3316', '2506', '227', '1761', '932', '2369', '828', '234', '2060', '253', '4145', '48'], 32: ['2488', '873', '2281', '3385', '1190', '1489', '2273', '1939', '1128', '1561', '2298', '662', '1938', '2210', '413', '2860', '793', '1722', '1399', '1081', '2074', '2844', '735', '2999', '2118', '1382', '62', '2392', '183', '2672', '3069', '379', '2553', '409', '1230', '1244', '1999', '2645', '2873', '2457', '1347', '2965', '1086', '2388', '351', '3408', '310', '96', '1240', '980', '794', '2665', '3114', '892', '522', '125', '2245', '2514', '629', '1108', '240', '2495', '977', '2479', '1506', '1842', '759', '831', '1974', '489', '372', '3174', '1387', '917', '1203', '2772', '1595', '1643', '404', '1444', '4037', '2190', '808', '3489', '2505', '1177', '3648', '2128', '407', '52', '124', '1079', '1528', '1949', '598', '2636', '1731', '2164', '3780', '1127', '1456', '336', '1840', '1153', '2716', '1142', '313', '1408', '1618', '783', '2119', '451', '300', '18', '120', '2862', '496', '1329', '3026', '2185', '3907', '2089', '2107', '1593', '1073', '2534', '1005', '1165', '2901', '1146', '1152', '1691', '822', '1339', '3042', '2793', '1613', '3034', '3105', '2588', '2242', '331', '2484', '1978', '1428', '616', '105', '667', '186', '1596', '2407', '1376', '1590', '2413', '1157', '2385', '468', '1268', '2886', '1441', '299', '3842', '1051', '2690', '2791', '3849', '2233', '725', '46', '2592', '2152', '3389', '974', '2044', '464', '1274', '3651', '1345', '579', '878', '4012', '2286', '862', '2589', '2683', '188', '2356', '3976', '9', '3155', '107', '460', '689', '290', '1583', '1987', '3347', '766', '237', '2952', '2699', '141', '3327', '2017', '3612', '568', '2018', '3714', '1098', '2794', '1980', '80', '3106', '1554', '1555', '2047', '2717', '320', '3009', '953', '937', '3894', '2877', '3083', '271', '543', '3109', '3892', '161', '1817', '283', '4036', '2060', '959', '159', '2438'], 33: ['1233', '2605', '1489', '2521', '1736', '1128', '2298', '2179', '662', '2240', '998', '3482', '2432', '2113', '469', '293', '874', '2867', '2999', '1332', '75', '4061', '2891', '62', '1880', '2533', '1364', '1185', '348', '1352', '630', '882', '401', '2645', '752', '3314', '1347', '1389', '1086', '312', '351', '686', '310', '2230', '2156', '1240', '3173', '2552', '892', '754', '454', '3208', '1108', '759', '372', '3011', '2290', '601', '1097', '3641', '3152', '245', '2208', '2190', '3489', '2880', '341', '2698', '3648', '3895', '2673', '2478', '324', '883', '1119', '2524', '86', '1219', '2360', '1200', '961', '336', '1153', '19', '529', '1560', '451', '3115', '300', '474', '1329', '2572', '4028', '342', '2185', '2534', '3036', '985', '269', '1152', '1339', '1613', '2412', '2793', '1465', '3281', '2776', '3052', '1919', '4144', '29', '616', '1428', '667', '2543', '497', '1712', '186', '1596', '4126', '2837', '3094', '3782', '1704', '2983', '1989', '2112', '468', '2886', '1441', '226', '1051', '2791', '3849', '2233', '46', '110', '2152', '765', '3389', '2009', '2238', '974', '2044', '490', '3651', '1345', '2381', '878', '1494', '1699', '3175', '3976', '107', '2272', '101', '766', '2952', '1598', '2889', '1098', '2794', '1980', '3106', '1555', '823', '2120', '2728', '3145', '2085', '937', '1802', '2877', '3083', '562', '2604', '3404', '2064', '234', '4036', '2759', '2249', '2060', '159', '4145', '830'], 34: ['2605', '820', '1107', '2521', '1972', '3339', '2351', '771', '767', '3119', '764', '2240', '262', '2298', '662', '2210', '304', '2860', '1813', '550', '1722', '1814', '2822', '2074', '2844', '2688', '62', '1684', '3593', '2347', '1413', '2553', '882', '1655', '1239', '1244', '2457', '84', '1389', '4020', '310', '2156', '794', '1018', '3173', '147', '892', '522', '125', '1470', '3208', '454', '1506', '359', '2495', '2479', '3174', '3011', '3806', '2772', '200', '3272', '3140', '1643', '1444', '1647', '3648', '407', '52', '1079', '2087', '324', '855', '598', '2463', '2912', '1731', '3942', '369', '1127', '1219', '1200', '1820', '705', '1142', '529', '313', '1618', '783', '314', '451', '3115', '536', '300', '496', '2226', '4028', '1434', '3907', '482', '3186', '269', '1053', '1339', '2412', '1856', '130', '3281', '1508', '2242', '3008', '3052', '331', '1257', '1978', '4144', '893', '2059', '1451', '3431', '3099', '2543', '497', '1712', '1760', '2407', '2837', '3094', '571', '1704', '2385', '2832', '2259', '468', '2853', '299', '226', '1051', '2168', '2690', '1541', '2500', '3849', '2537', '2592', '2152', '765', '2238', '490', '464', '57', '1345', '273', '1872', '1494', '4012', '1699', '2589', '2683', '2828', '3175', '188', '3976', '2305', '2272', '290', '1583', '101', '1129', '28', '766', '237', '2699', '2405', '1598', '717', '2889', '2826', '3714', '2956', '1554', '2584', '2047', '823', '790', '3336', '3931', '548', '271', '742', '1783', '2369', '1817', '2060', '253', '4145', '48', '905'], 35: ['2488', '873', '1233', '2281', '2494', '2605', '1107', '1489', '767', '60', '1939', '1561', '1128', '3119', '2240', '3466', '998', '413', '896', '3740', '1722', '1399', '1081', '2822', '1310', '2999', '75', '784', '1382', '62', '1684', '3517', '1364', '2261', '379', '409', '882', '1239', '1244', '2457', '2645', '2873', '3647', '1347', '1389', '1086', '351', '4020', '3408', '310', '686', '4102', '96', '980', '2156', '794', '1295', '2869', '1240', '3173', '3114', '892', '2813', '125', '454', '2245', '2514', '1506', '1108', '785', '977', '3283', '1842', '831', '1387', '759', '1097', '1595', '983', '438', '3140', '3469', '1038', '976', '3489', '2880', '341', '2698', '2128', '901', '2673', '2907', '2478', '2504', '883', '1119', '2636', '225', '3942', '2164', '3033', '1456', '888', '1630', '705', '2716', '1142', '529', '2119', '451', '536', '300', '222', '2700', '2416', '18', '496', '2572', '1329', '635', '3907', '1593', '1073', '2534', '1005', '1886', '1152', '1691', '822', '2603', '1053', '3004', '2793', '3034', '3105', '1717', '1715', '2801', '2380', '20', '475', '1257', '105', '2059', '1428', '616', '667', '275', '1514', '497', '1712', '186', '2407', '466', '1596', '567', '1376', '571', '1704', '1157', '2413', '1138', '386', '2832', '468', '2302', '1441', '299', '587', '1051', '1829', '2791', '2326', '31', '2233', '2317', '1379', '2592', '1942', '2152', '2136', '3389', '490', '974', '3651', '2381', '57', '118', '579', '878', '596', '188', '36', '3976', '3087', '3155', '290', '279', '1411', '101', '1583', '766', '1211', '141', '1569', '2017', '1598', '3612', '2270', '717', '568', '2889', '2826', '1098', '2794', '2956', '1980', '3106', '1297', '2728', '953', '937', '3894', '2877', '523', '3316', '148', '3083', '271', '742', '543', '3109', '2604', '161', '1702', '283', '2643', '2249', '959', '159', '4145', '4061', '905'], 36: ['3739', '532', '1233', '2494', '2198', '3385', '2605', '646', '2521', '1425', '2220', '2240', '2498', '1938', '1125', '998', '896', '2268', '2857', '168', '2954', '306', '75', '2118', '62', '3230', '42', '1364', '507', '402', '1798', '882', '401', '1999', '1780', '3445', '1507', '3647', '1389', '2965', '2388', '4020', '1289', '310', '686', '1295', '2156', '2869', '2665', '892', '2618', '125', '454', '2955', '629', '785', '1974', '831', '3011', '1227', '489', '2368', '1097', '495', '2556', '660', '1045', '4076', '3129', '1154', '3489', '2880', '341', '2505', '2830', '32', '2673', '1082', '2478', '3631', '2000', '883', '1119', '493', '734', '1219', '888', '817', '903', '3055', '529', '1408', '2709', '185', '451', '2264', '300', '486', '2416', '2480', '792', '496', '2572', '4028', '2089', '1606', '2182', '2161', '1005', '947', '373', '246', '2322', '2523', '1339', '3042', '2801', '1795', '2725', '3946', '2380', '1715', '20', '2469', '475', '2054', '376', '2165', '3880', '497', '1712', '1514', '3094', '1704', '1157', '386', '2983', '1716', '1181', '1042', '226', '384', '1051', '43', '690', '2791', '2233', '2587', '725', '1379', '2627', '2223', '2152', '765', '1942', '490', '3051', '2381', '209', '3062', '965', '3175', '36', '3976', '3039', '3087', '101', '3397', '766', '1598', '3364', '2889', '1022', '2956', '558', '2095', '2266', '823', '2120', '2728', '3711', '488', '953', '3316', '2506', '148', '1651', '1187', '742', '1586', '2948', '1894', '2604', '2943', '2963', '4145', '4061', '1563', '3792'], 37: ['2488', '532', '1233', '318', '2494', '2605', '2521', '2273', '1425', '767', '1616', '3119', '2179', '2597', '998', '413', '3482', '2268', '2860', '1081', '2822', '735', '75', '62', '1684', '42', '1364', '2672', '3396', '2553', '409', '1352', '1239', '1244', '1999', '3647', '2154', '1086', '2527', '1289', '310', '686', '2072', '2856', '2435', '1018', '2552', '3114', '522', '892', '240', '785', '2479', '1842', '3174', '831', '3011', '3138', '2368', '1097', '2772', '1595', '3140', '1444', '3489', '2880', '341', '1500', '1177', '2673', '2258', '52', '2478', '1079', '1528', '1949', '324', '855', '493', '1119', '2636', '883', '3942', '3780', '1319', '2276', '539', '1219', '1605', '1281', '336', '705', '2716', '288', '1965', '313', '1618', '783', '185', '451', '536', '300', '486', '2416', '18', '120', '2226', '2572', '4028', '2185', '2753', '2534', '1165', '2901', '1146', '822', '801', '1053', '3034', '1710', '2588', '151', '2469', '2242', '475', '414', '1257', '2059', '893', '216', '3431', '3880', '3832', '571', '2385', '4019', '580', '2832', '1268', '1247', '993', '3260', '226', '384', '1051', '909', '1541', '2537', '2960', '2233', '2648', '1412', '1942', '2152', '765', '815', '576', '464', '2884', '2381', '579', '1872', '1433', '4012', '3282', '3062', '1402', '2007', '2683', '2356', '3976', '9', '2263', '3087', '3155', '2305', '689', '439', '1129', '3347', '766', '2699', '2405', '2017', '717', '956', '2826', '1918', '1022', '787', '558', '80', '366', '1811', '823', '885', '2728', '953', '3894', '2652', '148', '548', '1651', '1187', '742', '1586', '562', '1894', '2604', '3455', '3965', '959', '4061', '905', '2438'], 38: ['873', '1233', '2281', '646', '1489', '764', '417', '1939', '1128', '2179', '2240', '2597', '998', '896', '3482', '2860', '1813', '1722', '214', '1399', '1081', '994', '75', '62', '738', '1364', '2553', '1352', '882', '1244', '2457', '2645', '1347', '1389', '1086', '351', '2950', '310', '686', '1295', '274', '2156', '1240', '2869', '794', '1357', '2552', '522', '892', '125', '3970', '454', '2245', '2514', '1506', '1270', '2479', '3174', '831', '1097', '2772', '3793', '2499', '1444', '4037', '3489', '2880', '341', '2505', '3648', '3895', '2128', '2673', '52', '1084', '2478', '1079', '1770', '883', '1119', '429', '2164', '4052', '1319', '1687', '86', '961', '336', '888', '288', '2379', '1512', '529', '2176', '1618', '783', '2119', '451', '300', '335', '1700', '762', '496', '2572', '1937', '2185', '3907', '1593', '1073', '2622', '1152', '1315', '1691', '3158', '1339', '546', '2801', '2380', '2776', '20', '2242', '616', '1514', '497', '1712', '186', '2407', '1574', '2250', '2365', '1704', '2413', '2385', '386', '2285', '580', '468', '2816', '1441', '299', '1051', '2791', '2960', '2233', '3958', '46', '1379', '2592', '2152', '815', '490', '974', '464', '3651', '1345', '2381', '1943', '878', '4012', '2007', '2683', '188', '36', '3976', '290', '1583', '101', '766', '2699', '1888', '141', '514', '24', '1598', '3612', '568', '2889', '2794', '1980', '3106', '2728', '3145', '937', '1818', '2652', '2877', '2621', '3316', '3654', '271', '562', '543', '35', '2604', '3455', '3965', '283', '2060', '1063', '4145', '3016', '4061'], 39: ['532', '3468', '820', '2784', '771', '1972', '3339', '764', '2298', '262', '662', '1813', '214', '1814', '994', '2688', '3176', '838', '193', '2999', '3531', '1290', '3230', '738', '402', '2347', '1413', '409', '3497', '401', '1155', '84', '1577', '3369', '3180', '310', '2856', '2072', '2156', '2435', '1018', '1357', '794', '147', '2829', '1137', '1470', '2306', '359', '1108', '759', '4025', '3272', '3140', '268', '404', '1444', '1045', '3129', '2932', '3489', '1647', '1500', '880', '1082', '2087', '2463', '855', '1556', '2912', '1770', '613', '2274', '1820', '961', '903', '2176', '2709', '335', '2226', '1329', '1035', '1434', '2540', '2753', '482', '3036', '1448', '3186', '1005', '269', '2622', '97', '373', '2793', '3668', '1795', '2725', '3946', '3281', '130', '1508', '893', '376', '1777', '667', '3431', '3099', '1574', '350', '1126', '1760', '1596', '2365', '1283', '4019', '580', '2259', '468', '2816', '1181', '846', '299', '1541', '2500', '2791', '3849', '2537', '2233', '3958', '1491', '1412', '3389', '1669', '57', '103', '1872', '2125', '2155', '2828', '2305', '279', '28', '1129', '1000', '2405', '514', '2497', '3552', '1598', '330', '2889', '1098', '1811', '2584', '790', '3336', '2621', '3931', '548', '3083', '2506', '742', '35', '2865', '2099', '2369', '253', '159', '3016', '48', '88', '1563'], 40: ['2773', '736', '820', '771', '1972', '3339', '262', '2474', '2113', '2429', '1813', '1814', '1611', '2688', '293', '874', '2954', '2867', '3176', '2999', '494', '2891', '1880', '2573', '4114', '3984', '540', '537', '2261', '1185', '2347', '348', '1413', '1352', '401', '2031', '2109', '84', '3627', '1993', '312', '2388', '142', '310', '2230', '2713', '2156', '624', '1018', '1824', '147', '912', '3628', '3208', '1470', '359', '1108', '785', '2495', '3283', '759', '2290', '3198', '3641', '1595', '3140', '665', '1444', '1045', '2735', '569', '2043', '3489', '98', '1647', '2141', '1079', '2530', '2087', '2463', '855', '1735', '2912', '2577', '3608', '1835', '1820', '763', '1153', '903', '2709', '1742', '1560', '2491', '1392', '474', '1329', '2226', '3026', '1434', '3186', '269', '2279', '430', '2793', '1465', '1466', '3029', '130', '3946', '3281', '151', '1508', '414', '1919', '858', '893', '180', '376', '667', '33', '3431', '3099', '1760', '1596', '859', '3782', '2112', '2259', '468', '299', '3799', '1541', '2500', '2791', '2537', '737', '2921', '2233', '2317', '46', '3389', '1669', '2696', '57', '118', '2397', '1872', '13', '3282', '526', '1032', '1776', '862', '2828', '3175', '2333', '2305', '2934', '28', '1129', '2405', '1664', '614', '1193', '1598', '1098', '1610', '2609', '2584', '823', '790', '3336', '4117', '3083', '548', '742', '1170', '1738', '2369', '3892', '1184', '2759', '1278', '253', '159', '48', '1563', '871'], 41: ['239', '2773', '1233', '851', '646', '2605', '1517', '2521', '417', '2750', '262', '3466', '998', '2474', '2210', '835', '2429', '2382', '2074', '2844', '1532', '2477', '306', '75', '238', '494', '1003', '1364', '428', '2672', '3069', '2261', '2481', '138', '348', '401', '3627', '1577', '2237', '2388', '1591', '1952', '686', '2713', '221', '3487', '1188', '624', '3173', '1824', '597', '147', '2367', '2618', '1951', '3970', '2495', '3283', '3011', '1097', '3198', '2772', '1643', '2016', '3366', '1045', '2735', '1217', '2880', '341', '3489', '2756', '2505', '407', '2673', '1570', '2478', '2530', '598', '2912', '2908', '1119', '1731', '2501', '2971', '1687', '2100', '1127', '1835', '1219', '502', '888', '288', '903', '2926', '2709', '1742', '1560', '451', '403', '1166', '721', '1392', '1700', '2226', '2572', '496', '4028', '3026', '1434', '2796', '3101', '3519', '3946', '187', '331', '1978', '180', '423', '376', '146', '2666', '3782', '4086', '580', '2449', '1540', '4187', '226', '2110', '1719', '2690', '2791', '2233', '2317', '1857', '46', '2850', '2131', '765', '1669', '464', '2123', '723', '2381', '2923', '118', '2397', '1855', '2286', '526', '2007', '2589', '3096', '1100', '2958', '2934', '101', '45', '766', '237', '1664', '1040', '3688', '541', '437', '3714', '1554', '2047', '823', '2728', '2218', '393', '3108', '4117', '1734', '4197', '681', '1170', '2615', '2604', '3892', '3455', '1184', '2642', '1817', '2871', '2181', '707', '3016', '4061', '1563'], 42: ['265', '646', '2605', '2521', '764', '417', '1561', '60', '1616', '2240', '262', '835', '2432', '3740', '469', '3019', '168', '1310', '306', '1332', '1382', '3230', '3807', '3157', '402', '409', '564', '882', '3497', '401', '1155', '3445', '1577', '1389', '2154', '2950', '3408', '2254', '2072', '96', '2156', '980', '1018', '2042', '2618', '2813', '125', '3970', '1137', '912', '454', '977', '2209', '3191', '872', '1387', '3011', '2772', '438', '2851', '3152', '268', '1065', '2208', '3129', '1164', '2932', '3489', '341', '880', '2698', '2907', '1082', '2000', '2504', '324', '2912', '446', '2636', '2260', '368', '1687', '1219', '2418', '2360', '1959', '1456', '2057', '888', '58', '1153', '3150', '1142', '1630', '1757', '529', '1965', '1700', '2700', '1035', '4028', '342', '355', '1301', '2753', '1171', '1539', '1005', '97', '373', '2603', '2322', '2523', '833', '3004', '3118', '276', '801', '1238', '3105', '1717', '1795', '2725', '1715', '1680', '2054', '105', '29', '4032', '216', '275', '1605', '497', '1712', '466', '2407', '3832', '1376', '1903', '1704', '2983', '580', '1989', '3785', '1247', '1181', '846', '226', '909', '2349', '43', '690', '2326', '231', '2233', '2166', '1845', '2627', '110', '2850', '2648', '765', '2009', '3051', '490', '57', '103', '596', '3938', '36', '3155', '107', '279', '3605', '2248', '3788', '101', '1621', '3397', '1016', '2081', '3552', '1598', '956', '2889', '1918', '2548', '2545', '787', '2601', '2266', '823', '488', '638', '953', '1802', '1589', '523', '3931', '148', '382', '3109', '2948', '2466', '2943', '161', '3404', '2963', '2064', '234', '1841', '2249', '695', '4145', '830', '1281'], 43: ['2488', '1233', '2494', '3246', '767', '2220', '3119', '2597', '998', '413', '3482', '2432', '2860', '469', '1081', '2822', '2477', '306', '54', '75', '1332', '1519', '62', '1684', '3157', '1364', '2553', '409', '1352', '2924', '401', '1239', '1244', '3445', '3647', '1350', '2799', '1086', '310', '686', '3173', '2552', '147', '3114', '892', '2618', '125', '522', '1951', '785', '2479', '3191', '1842', '3174', '1227', '544', '1097', '2772', '1203', '1595', '3140', '3152', '2208', '3489', '2880', '341', '3648', '2673', '52', '2478', '1079', '2000', '324', '883', '1119', '2636', '3942', '1319', '2274', '2360', '1200', '1959', '336', '58', '1153', '3150', '2716', '705', '1287', '1618', '783', '2119', '451', '3115', '536', '300', '1333', '2416', '18', '2480', '1329', '2572', '342', '2185', '1301', '1606', '2534', '806', '3036', '2602', '830', '947', '822', '2523', '2322', '1339', '1053', '2412', '1238', '3034', '151', '2242', '475', '2054', '3052', '414', '1257', '2059', '4144', '29', '2543', '2837', '3094', '1903', '571', '1283', '2983', '2385', '1989', '2832', '2053', '1716', '2302', '1051', '43', '690', '2960', '2233', '1845', '2902', '2627', '110', '1412', '2223', '2152', '815', '1942', '2238', '2009', '3051', '2876', '464', '1195', '1511', '2381', '1345', '579', '1494', '4012', '3282', '1317', '1699', '965', '2683', '3427', '1924', '3976', '3087', '3155', '107', '2272', '3605', '472', '3397', '766', '2699', '141', '2017', '3364', '717', '2826', '1542', '2266', '2120', '2728', '488', '638', '953', '3894', '2652', '1802', '2506', '148', '742', '562', '2948', '2563', '2604', '2943', '3404', '2963', '3965', '2064', '234', '4050', '2249', '2060', '959', '4061', '905'], 44: ['2488', '1991', '2847', '3385', '1517', '764', '3341', '2750', '1938', '304', '413', '2474', '835', '860', '2113', '1070', '2429', '1081', '343', '3604', '306', '238', '2118', '198', '3736', '85', '3157', '2714', '2347', '169', '138', '515', '409', '1925', '3497', '2039', '1244', '1155', '1999', '2237', '1577', '2965', '1086', '2388', '2805', '2856', '1188', '96', '624', '2435', '3114', '2618', '2783', '125', '552', '1137', '703', '3208', '2357', '1418', '2139', '629', '211', '1842', '1974', '489', '3198', '1595', '1642', '268', '4037', '2343', '512', '2932', '2756', '2505', '1500', '880', '2004', '2325', '1050', '2000', '855', '2912', '1950', '2636', '2971', '2274', '2252', '76', '949', '1959', '2541', '58', '1757', '1772', '2716', '3150', '1408', '1305', '3270', '18', '2226', '2753', '1301', '482', '2089', '2534', '2796', '1005', '97', '3961', '822', '2523', '2322', '833', '3042', '768', '1238', '3034', '195', '1680', '902', '973', '2949', '637', '670', '2543', '2422', '2341', '1157', '2983', '4019', '580', '2449', '993', '1753', '2219', '1614', '846', '1042', '3353', '43', '15', '690', '2493', '2627', '110', '1412', '725', '3051', '2884', '2381', '1484', '579', '1855', '816', '2286', '916', '27', '3175', '2348', '323', '188', '3096', '9', '3155', '623', '279', '3605', '3397', '766', '4047', '2017', '560', '1672', '2243', '2383', '1811', '2266', '499', '638', '1628', '3626', '3894', '4117', '3931', '148', '4197', '227', '2948', '3090', '1761', '2943', '3199', '828', '2963', '2868', '2391', '2393', '2297', '2181', '959', '1968', '3098', '3235'], 45: ['2488', '318', '2605', '2521', '60', '1561', '2179', '262', '3615', '2269', '1954', '413', '3482', '2474', '2429', '3740', '793', '484', '3014', '1081', '1245', '1611', '1310', '1382', '62', '183', '4114', '3069', '3396', '215', '3297', '2481', '2294', '409', '1352', '564', '1244', '2645', '2873', '5', '752', '3314', '1002', '1086', '2527', '1553', '142', '361', '442', '2387', '3408', '310', '96', '980', '624', '3173', '2552', '2665', '3114', '892', '2813', '754', '912', '3208', '1108', '785', '977', '2209', '872', '1842', '1387', '3138', '3011', '601', '917', '3198', '471', '1595', '438', '404', '569', '2043', '808', '3489', '341', '2698', '2258', '2907', '124', '2141', '1079', '1735', '324', '2504', '2754', '2577', '883', '2636', '368', '716', '2276', '539', '86', '1219', '1200', '1456', '336', '1630', '1840', '2716', '1142', '451', '3115', '2491', '300', '593', '2700', '2416', '18', '256', '2862', '23', '4028', '2185', '2107', '2575', '2534', '1539', '127', '2774', '1005', '2186', '822', '246', '2414', '2603', '3004', '2412', '833', '1339', '3034', '3105', '1710', '1717', '2671', '1715', '151', '414', '3052', '105', '2484', '331', '4144', '33', '275', '3000', '2543', '466', '1376', '2837', '3094', '1903', '993', '223', '3842', '226', '1051', '1429', '2326', '737', '2233', '2850', '2809', '2152', '765', '2238', '2876', '576', '1274', '2696', '2884', '57', '1926', '3420', '579', '1872', '1494', '1433', '1402', '3282', '596', '2289', '1699', '2155', '3175', '3168', '36', '3976', '2263', '3155', '2915', '2272', '688', '439', '107', '3788', '460', '603', '766', '2405', '2017', '1122', '366', '2548', '1610', '823', '885', '2120', '953', '3894', '2720', '4117', '523', '562', '3109', '1738', '1982', '161', '3148', '2871', '3597', '1278', '959'], 46: ['532', '1358', '3385', '646', '3341', '417', '60', '44', '2240', '1938', '2269', '2432', '2860', '3740', '469', '1310', '838', '306', '2879', '2708', '1332', '2118', '2573', '1533', '2312', '379', '2553', '409', '1659', '882', '3497', '401', '1155', '1999', '309', '1577', '3369', '1389', '1194', '1086', '2965', '1599', '2388', '96', '2156', '2471', '1824', '782', '2618', '522', '125', '3970', '1137', '2813', '454', '629', '666', '2040', '2479', '3686', '1974', '3174', '489', '2772', '553', '1756', '200', '298', '438', '4096', '3152', '268', '2208', '2932', '3489', '255', '2583', '2505', '880', '2698', '3648', '2004', '52', '2907', '1050', '727', '1079', '1735', '2000', '2988', '2504', '1556', '2636', '2971', '1687', '2188', '3590', '1557', '1160', '1269', '2360', '2900', '2541', '888', '1630', '1153', '529', '1408', '1618', '783', '1973', '1913', '40', '243', '1700', '2700', '1259', '2862', '1329', '3026', '1055', '342', '482', '943', '2089', '2173', '3036', '2174', '1448', '1005', '97', '2603', '2322', '2523', '1339', '3004', '3042', '2296', '1717', '1715', '2267', '2242', '29', '3172', '1777', '275', '3099', '2543', '497', '1712', '350', '1760', '466', '2180', '420', '3094', '1704', '1157', '2983', '2385', '580', '1989', '2734', '1008', '3017', '1994', '846', '441', '43', '1531', '690', '1362', '2326', '1446', '2233', '2166', '2627', '110', '46', '432', '725', '2152', '1984', '490', '3051', '2009', '464', '1195', '57', '1345', '2571', '4030', '1816', '596', '1854', '4012', '813', '2683', '776', '700', '1930', '36', '107', '279', '439', '1101', '2327', '101', '3397', '2952', '2699', '24', '2081', '1598', '568', '3258', '2889', '2996', '2601', '2266', '2855', '1628', '937', '3501', '1802', '2467', '2877', '523', '3727', '148', '524', '1187', '227', '2948', '543', '2998', '2865', '2943', '2366', '3892', '1176', '3404', '2963', '2868', '2064', '234', '1702', '995', '2249', '2060', '4145', '88', '830'], 47: ['2605', '2521', '2273', '3339', '1972', '771', '767', '3119', '262', '2597', '896', '2210', '3482', '2113', '2860', '1814', '2822', '2688', '2074', '2844', '874', '2867', '293', '2891', '62', '3230', '1684', '1880', '311', '3157', '1364', '402', '2672', '1185', '2347', '2553', '1352', '409', '3497', '1239', '1155', '1577', '312', '4020', '310', '2230', '1295', '2869', '3173', '2552', '892', '522', '1137', '359', '785', '2495', '2479', '3174', '3011', '2290', '2772', '3641', '3140', '1643', '268', '1444', '3129', '2932', '3489', '1692', '1647', '880', '3648', '407', '52', '1082', '1079', '2087', '324', '2463', '598', '883', '2636', '1731', '3942', '3780', '1319', '1127', '1219', '1959', '1200', '1820', '336', '888', '58', '705', '3150', '1153', '313', '1618', '3959', '783', '1560', '451', '3115', '536', '300', '474', '496', '4028', '2185', '1301', '639', '3186', '97', '1165', '2901', '1146', '373', '1053', '1339', '2412', '1238', '1465', '2801', '1795', '2725', '2380', '20', '151', '2242', '414', '3052', '1257', '2059', '331', '4144', '1978', '1919', '2543', '1514', '2837', '3094', '571', '2385', '386', '2832', '468', '2112', '1181', '846', '226', '1051', '2690', '2500', '2960', '2233', '1379', '2152', '765', '815', '2238', '464', '1345', '1494', '4012', '3282', '1699', '2683', '2828', '850', '36', '2589', '3976', '2272', '279', '3605', '101', '28', '766', '237', '2699', '1598', '717', '1781', '2826', '3714', '2956', '80', '1554', '2047', '823', '638', '937', '790', '2652', '3316', '562', '932', '828', '3965', '1817', '2759', '2060', '905'], 48: ['1991', '2605', '820', '1517', '1107', '2521', '60', '2240', '896', '860', '835', '2113', '3740', '1813', '1310', '293', '874', '2074', '343', '1715', '2867', '3604', '2891', '62', '3230', '1880', '311', '3517', '402', '1185', '2347', '1413', '1925', '882', '401', '84', '2237', '1389', '312', '310', '2856', '1295', '2230', '2156', '2435', '1018', '3173', '2869', '147', '2783', '892', '2813', '703', '454', '3208', '1470', '2357', '2139', '1418', '3011', '2290', '3641', '3300', '983', '438', '1642', '1045', '2343', '3129', '976', '3489', '1692', '1500', '2698', '2907', '1082', '324', '2504', '883', '2274', '1219', '1200', '1717', '888', '1630', '1153', '1772', '903', '529', '2709', '3959', '1560', '3270', '451', '3115', '300', '222', '2700', '474', '496', '3026', '4028', '635', '2753', '1434', '639', '1005', '269', '373', '2603', '833', '3004', '2412', '1465', '2801', '1795', '2725', '3946', '3281', '130', '195', '1680', '2380', '20', '1508', '3052', '1919', '4144', '376', '275', '3099', '2543', '497', '1712', '1514', '1760', '2341', '466', '2837', '3094', '1704', '1157', '386', '4019', '1138', '580', '2259', '2112', '2302', '1181', '299', '226', '587', '1051', '2791', '2326', '2233', '46', '1412', '110', '1379', '2152', '765', '2238', '490', '57', '1872', '1494', '816', '596', '1699', '3175', '850', '36', '3976', '2272', '279', '1411', '101', '766', '1211', '560', '1598', '1781', '2889', '1811', '2584', '823', '937', '3336', '523', '3316', '3090', '932', '2369', '3892', '828', '1702', '2759', '2643', '253', '1968', '4145', '48', '1563'], 49: ['1991', '2847', '2605', '2784', '1107', '2521', '1616', '60', '2298', '2750', '2240', '662', '2498', '3137', '67', '835', '2078', '3740', '2857', '168', '1310', '343', '193', '3604', '2999', '238', '3230', '402', '1798', '379', '515', '138', '1352', '882', '2873', '3445', '2237', '1389', '2154', '4020', '2072', '2856', '1188', '2156', '2435', '1018', '2618', '2813', '552', '454', '2306', '2139', '1506', '785', '3011', '438', '2556', '3469', '1291', '2343', '3129', '3489', '2756', '1500', '2698', '2907', '1082', '2504', '855', '324', '1950', '2971', '613', '2274', '152', '3033', '1219', '1605', '1630', '1772', '3055', '529', '1965', '2700', '2226', '3026', '1035', '4028', '482', '2753', '2182', '2796', '1005', '3961', '373', '2603', '2322', '801', '833', '3004', '1339', '246', '3668', '1717', '1795', '2725', '195', '1715', '1680', '151', '2054', '414', '973', '216', '2949', '275', '670', '497', '1712', '2341', '466', '3832', '675', '1704', '1283', '2788', '4019', '580', '2449', '1247', '2886', '1181', '1042', '226', '909', '1829', '3849', '2326', '2233', '2587', '46', '110', '2648', '1412', '765', '490', '2884', '57', '2381', '103', '1855', '596', '816', '2125', '3282', '2286', '188', '3096', '9', '460', '623', '101', '1000', '766', '1569', '3552', '1598', '1672', '956', '2889', '1918', '2383', '2956', '787', '2095', '80', '1811', '499', '823', '488', '523', '4197', '3090', '1761', '3892', '1184', '828', '2181', '3759', '4145', '3792', '1281'], 50: ['1233', '2847', '3385', '3246', '771', '1972', '3339', '764', '2179', '262', '1938', '3466', '998', '2474', '304', '2429', '1814', '1081', '2688', '2999', '75', '54', '2118', '311', '42', '1364', '2347', '515', '1352', '564', '1999', '2881', '2965', '2388', '2950', '686', '2856', '310', '2156', '624', '2435', '3173', '147', '552', '3208', '629', '359', '1108', '1270', '2209', '872', '759', '1974', '489', '544', '1097', '3198', '1642', '2499', '1858', '2880', '1692', '341', '1647', '1500', '2505', '3895', '14', '2673', '2903', '1084', '2478', '2087', '2463', '855', '2912', '1950', '1119', '429', '4052', '368', '86', '1820', '2379', '1512', '1408', '3959', '3432', '1333', '762', '1329', '2572', '1035', '1937', '2753', '2089', '1752', '639', '806', '1539', '2602', '3186', '1005', '269', '2404', '3961', '833', '3042', '2793', '546', '3281', '2776', '973', '2949', '667', '670', '1596', '2250', '1903', '1157', '2285', '4019', '580', '468', '1042', '43', '2500', '46', '1412', '2850', '4064', '2639', '725', '3389', '2876', '2884', '2381', '103', '1943', '2828', '3175', '850', '36', '188', '9', '623', '3788', '28', '1888', '141', '24', '3552', '1598', '1672', '1781', '2889', '1098', '2548', '2383', '1811', '1536', '499', '2728', '3145', '937', '1818', '790', '4117', '3931', '3083', '1761', '932', '2604', '2137', '828', '3828', '159', '4061'], 51: ['532', '265', '3246', '3440', '1107', '767', '1425', '3341', '3119', '3615', '304', '1173', '2268', '2113', '2860', '550', '3019', '168', '3014', '2822', '1611', '293', '874', '2867', '306', '54', '494', '2891', '1684', '1880', '440', '3157', '42', '2261', '1185', '2553', '1659', '1655', '1239', '2109', '1244', '1993', '312', '1289', '2254', '2230', '96', '3173', '147', '2618', '522', '125', '3628', '2955', '1108', '2479', '3283', '3174', '831', '544', '3806', '2368', '2290', '2772', '3641', '298', '200', '471', '2851', '553', '3140', '1595', '2265', '3489', '2830', '3648', '2004', '52', '1050', '1079', '2000', '324', '493', '2636', '3942', '369', '2971', '2260', '2447', '1959', '1200', '2057', '2541', '1757', '58', '3150', '705', '1142', '1153', '963', '313', '1618', '783', '314', '185', '1560', '3115', '536', '486', '1333', '474', '2107', '482', '1301', '1171', '806', '2602', '2774', '2322', '2523', '1053', '1339', '2414', '2412', '246', '1238', '430', '1856', '1465', '1189', '1466', '1680', '2469', '2242', '3008', '3052', '1257', '2059', '1919', '4144', '4032', '1451', '3880', '2543', '1760', '2837', '3094', '571', '1186', '2385', '2983', '2734', '2832', '2112', '2853', '223', '441', '384', '2168', '2349', '43', '4202', '690', '2921', '2233', '2166', '2317', '2627', '2070', '2152', '2238', '3051', '2876', '464', '1345', '1926', '118', '1494', '4012', '3062', '1032', '2289', '1699', '2683', '2155', '3168', '700', '1776', '2272', '2248', '3605', '2327', '958', '3397', '2952', '2699', '141', '24', '2081', '2938', '717', '3258', '2826', '1022', '2545', '558', '2266', '3711', '638', '1628', '2720', '1589', '148', '1651', '382', '1187', '1586', '2948', '1783', '227', '1894', '2943', '2963', '2868', '2759', '2871', '2060', '871', '905'], 52: ['3739', '873', '3', '2281', '2847', '2198', '1190', '646', '2784', '764', '60', '1939', '2351', '1125', '3466', '3482', '3740', '1813', '214', '1399', '994', '1310', '2954', '193', '306', '2999', '62', '738', '4114', '428', '3069', '3593', '2086', '515', '1920', '409', '1659', '3497', '1155', '1780', '1507', '752', '3314', '1577', '142', '310', '1357', '3173', '2552', '2665', '552', '2813', '754', '912', '1137', '2245', '2514', '2306', '1108', '759', '831', '372', '1467', '601', '438', '268', '1444', '569', '2043', '2190', '1154', '2932', '880', '2698', '2128', '2907', '2141', '1079', '1735', '3631', '2504', '855', '2577', '1770', '883', '1950', '734', '2164', '613', '655', '2037', '86', '961', '336', '1630', '817', '2176', '2485', '2119', '2264', '2491', '335', '2700', '2050', '792', '1329', '3026', '2185', '482', '1593', '1073', '2534', '2161', '1005', '97', '2622', '3961', '373', '1691', '2603', '376', '1613', '3004', '3519', '2793', '1881', '1339', '3668', '1717', '1715', '1428', '29', '973', '2517', '2165', '2949', '667', '275', '33', '670', '1574', '968', '1596', '466', '2365', '3094', '1283', '2413', '2531', '2832', '448', '1540', '2886', '2816', '1042', '846', '2326', '737', '3958', '46', '2131', '3389', '1458', '3922', '2044', '2696', '2884', '57', '273', '2381', '1785', '3349', '596', '2125', '50', '188', '2348', '3175', '9', '3039', '1455', '713', '623', '279', '3412', '101', '1000', '2952', '141', '514', '1672', '3612', '568', '1098', '2383', '1555', '1610', '499', '2120', '2218', '953', '3108', '2621', '523', '3083', '562', '543', '1761', '35', '1738', '1894', '3892', '283', '4036', '1278', '159', '3016', '2758']}\n"
     ]
    }
   ],
   "source": [
    "print(result)"
   ]
  },
  {
   "cell_type": "code",
   "execution_count": null,
   "metadata": {},
   "outputs": [],
   "source": []
  }
 ],
 "metadata": {
  "kernelspec": {
   "display_name": "Python 3",
   "language": "python",
   "name": "python3"
  },
  "language_info": {
   "codemirror_mode": {
    "name": "ipython",
    "version": 3
   },
   "file_extension": ".py",
   "mimetype": "text/x-python",
   "name": "python",
   "nbconvert_exporter": "python",
   "pygments_lexer": "ipython3",
   "version": "3.8.8"
  }
 },
 "nbformat": 4,
 "nbformat_minor": 2
}
